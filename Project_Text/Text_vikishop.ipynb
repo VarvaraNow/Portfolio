{
 "cells": [
  {
   "cell_type": "markdown",
   "metadata": {},
   "source": [
    "# Проект для «Викишоп»"
   ]
  },
  {
   "cell_type": "markdown",
   "metadata": {},
   "source": [
    "Интернет-магазин «Викишоп» запускает новый сервис. Теперь пользователи могут редактировать и дополнять описания товаров, как в вики-сообществах. То есть клиенты предлагают свои правки и комментируют изменения других. Магазину нужен инструмент, который будет искать токсичные комментарии и отправлять их на модерацию. \n",
    "\n",
    "Обучите модель классифицировать комментарии на позитивные и негативные. В вашем распоряжении набор данных с разметкой о токсичности правок.\n",
    "\n",
    "Постройте модель со значением метрики качества *F1* не меньше 0.75. \n",
    "\n",
    "**Инструкция по выполнению проекта**\n",
    "\n",
    "1. Загрузите и подготовьте данные.\n",
    "2. Обучите разные модели. \n",
    "3. Сделайте выводы.\n",
    "\n",
    "\n",
    "**Описание данных**\n",
    "\n",
    "Данные находятся в файле `toxic_comments.csv`. Столбец *text* в нём содержит текст комментария, а *toxic* — целевой признак."
   ]
  },
  {
   "cell_type": "markdown",
   "metadata": {
    "toc": true
   },
   "source": [
    "<h1>Содержание<span class=\"tocSkip\"></span></h1>\n",
    "<div class=\"toc\"><ul class=\"toc-item\"><li><span><a href=\"#Подготовка\" data-toc-modified-id=\"Подготовка-1\"><span class=\"toc-item-num\">1&nbsp;&nbsp;</span>Подготовка</a></span></li><li><span><a href=\"#Обучение\" data-toc-modified-id=\"Обучение-2\"><span class=\"toc-item-num\">2&nbsp;&nbsp;</span>Обучение</a></span><ul class=\"toc-item\"><li><span><a href=\"#DecisionTree\" data-toc-modified-id=\"DecisionTree-2.1\"><span class=\"toc-item-num\">2.1&nbsp;&nbsp;</span>DecisionTree</a></span></li><li><span><a href=\"#RandomForest\" data-toc-modified-id=\"RandomForest-2.2\"><span class=\"toc-item-num\">2.2&nbsp;&nbsp;</span>RandomForest</a></span></li><li><span><a href=\"#LogisticRegression\" data-toc-modified-id=\"LogisticRegression-2.3\"><span class=\"toc-item-num\">2.3&nbsp;&nbsp;</span>LogisticRegression</a></span></li><li><span><a href=\"#LogisticRegression-with-Pipeline\" data-toc-modified-id=\"LogisticRegression-with-Pipeline-2.4\"><span class=\"toc-item-num\">2.4&nbsp;&nbsp;</span>LogisticRegression with Pipeline</a></span></li></ul></li><li><span><a href=\"#Выводы\" data-toc-modified-id=\"Выводы-3\"><span class=\"toc-item-num\">3&nbsp;&nbsp;</span>Выводы</a></span></li></ul></div>"
   ]
  },
  {
   "cell_type": "markdown",
   "metadata": {},
   "source": [
    "## Подготовка"
   ]
  },
  {
   "cell_type": "code",
   "execution_count": 1,
   "metadata": {},
   "outputs": [
    {
     "name": "stderr",
     "output_type": "stream",
     "text": [
      "[nltk_data] Downloading package stopwords to /home/jovyan/nltk_data...\n",
      "[nltk_data]   Package stopwords is already up-to-date!\n",
      "[nltk_data] Downloading package wordnet to /home/jovyan/nltk_data...\n",
      "[nltk_data]   Package wordnet is already up-to-date!\n",
      "[nltk_data] Downloading package punkt to /home/jovyan/nltk_data...\n",
      "[nltk_data]   Package punkt is already up-to-date!\n"
     ]
    }
   ],
   "source": [
    "import pandas as pd\n",
    "import numpy as np\n",
    "import nltk\n",
    "import re\n",
    "import matplotlib.pyplot as plt\n",
    "from tqdm import tqdm\n",
    "\n",
    "from sklearn.tree import DecisionTreeClassifier\n",
    "from sklearn.ensemble import RandomForestRegressor\n",
    "from sklearn.metrics import f1_score, make_scorer\n",
    "from sklearn.model_selection import train_test_split\n",
    "from sklearn.model_selection import GridSearchCV\n",
    "from sklearn.linear_model import LogisticRegression\n",
    "from sklearn.ensemble import RandomForestClassifier\n",
    "from sklearn.svm import SVC\n",
    "from sklearn.feature_extraction.text import TfidfTransformer\n",
    "from sklearn.feature_extraction.text import TfidfVectorizer\n",
    "from sklearn.feature_extraction.text import CountVectorizer \n",
    "\n",
    "import nltk\n",
    "from nltk.corpus import stopwords as nltk_stopwords\n",
    "from nltk.corpus import stopwords\n",
    "from nltk.stem import WordNetLemmatizer \n",
    "\n",
    "from pymystem3 import Mystem\n",
    "\n",
    "nltk.download('stopwords')\n",
    "nltk.download('wordnet')\n",
    "nltk.download('punkt')\n",
    "\n",
    "from sklearn.pipeline import Pipeline\n",
    "\n",
    "import warnings\n",
    "warnings.filterwarnings(\"ignore\")\n",
    "\n",
    "RND=12345"
   ]
  },
  {
   "cell_type": "code",
   "execution_count": 2,
   "metadata": {},
   "outputs": [],
   "source": [
    "df=pd.read_csv('/datasets/toxic_comments.csv')"
   ]
  },
  {
   "cell_type": "code",
   "execution_count": 3,
   "metadata": {
    "scrolled": true
   },
   "outputs": [
    {
     "data": {
      "text/plain": [
       "'**Общая информация датафрейма**'"
      ]
     },
     "metadata": {},
     "output_type": "display_data"
    },
    {
     "name": "stdout",
     "output_type": "stream",
     "text": [
      "<class 'pandas.core.frame.DataFrame'>\n",
      "RangeIndex: 159571 entries, 0 to 159570\n",
      "Data columns (total 2 columns):\n",
      " #   Column  Non-Null Count   Dtype \n",
      "---  ------  --------------   ----- \n",
      " 0   text    159571 non-null  object\n",
      " 1   toxic   159571 non-null  int64 \n",
      "dtypes: int64(1), object(1)\n",
      "memory usage: 2.4+ MB\n"
     ]
    },
    {
     "data": {
      "text/plain": [
       "None"
      ]
     },
     "metadata": {},
     "output_type": "display_data"
    },
    {
     "name": "stdout",
     "output_type": "stream",
     "text": [
      " \n"
     ]
    },
    {
     "data": {
      "text/plain": [
       "'**Просмотр статистических данных**'"
      ]
     },
     "metadata": {},
     "output_type": "display_data"
    },
    {
     "data": {
      "text/html": [
       "<div>\n",
       "<style scoped>\n",
       "    .dataframe tbody tr th:only-of-type {\n",
       "        vertical-align: middle;\n",
       "    }\n",
       "\n",
       "    .dataframe tbody tr th {\n",
       "        vertical-align: top;\n",
       "    }\n",
       "\n",
       "    .dataframe thead th {\n",
       "        text-align: right;\n",
       "    }\n",
       "</style>\n",
       "<table border=\"1\" class=\"dataframe\">\n",
       "  <thead>\n",
       "    <tr style=\"text-align: right;\">\n",
       "      <th></th>\n",
       "      <th>count</th>\n",
       "      <th>unique</th>\n",
       "      <th>top</th>\n",
       "      <th>freq</th>\n",
       "      <th>mean</th>\n",
       "      <th>std</th>\n",
       "      <th>min</th>\n",
       "      <th>25%</th>\n",
       "      <th>50%</th>\n",
       "      <th>75%</th>\n",
       "      <th>max</th>\n",
       "    </tr>\n",
       "  </thead>\n",
       "  <tbody>\n",
       "    <tr>\n",
       "      <th>text</th>\n",
       "      <td>159571</td>\n",
       "      <td>159571</td>\n",
       "      <td>The Zafarnāma /zəfərnɑːmɑː/ (Punjabi: ਜ਼ਫ਼ਰਨਾਮ...</td>\n",
       "      <td>1</td>\n",
       "      <td>NaN</td>\n",
       "      <td>NaN</td>\n",
       "      <td>NaN</td>\n",
       "      <td>NaN</td>\n",
       "      <td>NaN</td>\n",
       "      <td>NaN</td>\n",
       "      <td>NaN</td>\n",
       "    </tr>\n",
       "    <tr>\n",
       "      <th>toxic</th>\n",
       "      <td>159571.0</td>\n",
       "      <td>NaN</td>\n",
       "      <td>NaN</td>\n",
       "      <td>NaN</td>\n",
       "      <td>0.101679</td>\n",
       "      <td>0.302226</td>\n",
       "      <td>0.0</td>\n",
       "      <td>0.0</td>\n",
       "      <td>0.0</td>\n",
       "      <td>0.0</td>\n",
       "      <td>1.0</td>\n",
       "    </tr>\n",
       "  </tbody>\n",
       "</table>\n",
       "</div>"
      ],
      "text/plain": [
       "          count  unique                                                top  \\\n",
       "text     159571  159571  The Zafarnāma /zəfərnɑːmɑː/ (Punjabi: ਜ਼ਫ਼ਰਨਾਮ...   \n",
       "toxic  159571.0     NaN                                                NaN   \n",
       "\n",
       "      freq      mean       std  min  25%  50%  75%  max  \n",
       "text     1       NaN       NaN  NaN  NaN  NaN  NaN  NaN  \n",
       "toxic  NaN  0.101679  0.302226  0.0  0.0  0.0  0.0  1.0  "
      ]
     },
     "metadata": {},
     "output_type": "display_data"
    },
    {
     "name": "stdout",
     "output_type": "stream",
     "text": [
      " \n"
     ]
    },
    {
     "data": {
      "text/plain": [
       "'**Вывод первых пяти строк датафрейма**'"
      ]
     },
     "metadata": {},
     "output_type": "display_data"
    },
    {
     "data": {
      "text/html": [
       "<div>\n",
       "<style scoped>\n",
       "    .dataframe tbody tr th:only-of-type {\n",
       "        vertical-align: middle;\n",
       "    }\n",
       "\n",
       "    .dataframe tbody tr th {\n",
       "        vertical-align: top;\n",
       "    }\n",
       "\n",
       "    .dataframe thead th {\n",
       "        text-align: right;\n",
       "    }\n",
       "</style>\n",
       "<table border=\"1\" class=\"dataframe\">\n",
       "  <thead>\n",
       "    <tr style=\"text-align: right;\">\n",
       "      <th></th>\n",
       "      <th>text</th>\n",
       "      <th>toxic</th>\n",
       "    </tr>\n",
       "  </thead>\n",
       "  <tbody>\n",
       "    <tr>\n",
       "      <th>0</th>\n",
       "      <td>Explanation\\nWhy the edits made under my usern...</td>\n",
       "      <td>0</td>\n",
       "    </tr>\n",
       "    <tr>\n",
       "      <th>1</th>\n",
       "      <td>D'aww! He matches this background colour I'm s...</td>\n",
       "      <td>0</td>\n",
       "    </tr>\n",
       "    <tr>\n",
       "      <th>2</th>\n",
       "      <td>Hey man, I'm really not trying to edit war. It...</td>\n",
       "      <td>0</td>\n",
       "    </tr>\n",
       "    <tr>\n",
       "      <th>3</th>\n",
       "      <td>\"\\nMore\\nI can't make any real suggestions on ...</td>\n",
       "      <td>0</td>\n",
       "    </tr>\n",
       "    <tr>\n",
       "      <th>4</th>\n",
       "      <td>You, sir, are my hero. Any chance you remember...</td>\n",
       "      <td>0</td>\n",
       "    </tr>\n",
       "  </tbody>\n",
       "</table>\n",
       "</div>"
      ],
      "text/plain": [
       "                                                text  toxic\n",
       "0  Explanation\\nWhy the edits made under my usern...      0\n",
       "1  D'aww! He matches this background colour I'm s...      0\n",
       "2  Hey man, I'm really not trying to edit war. It...      0\n",
       "3  \"\\nMore\\nI can't make any real suggestions on ...      0\n",
       "4  You, sir, are my hero. Any chance you remember...      0"
      ]
     },
     "metadata": {},
     "output_type": "display_data"
    },
    {
     "name": "stdout",
     "output_type": "stream",
     "text": [
      " \n"
     ]
    },
    {
     "data": {
      "text/plain": [
       "'**Вывод количесва дубликатов датафрейма**'"
      ]
     },
     "metadata": {},
     "output_type": "display_data"
    },
    {
     "data": {
      "text/plain": [
       "0"
      ]
     },
     "metadata": {},
     "output_type": "display_data"
    },
    {
     "name": "stdout",
     "output_type": "stream",
     "text": [
      " \n"
     ]
    },
    {
     "data": {
      "text/plain": [
       "'**Вывод количесва пропущеных значений датафрейма**'"
      ]
     },
     "metadata": {},
     "output_type": "display_data"
    },
    {
     "data": {
      "text/plain": [
       "text     0\n",
       "toxic    0\n",
       "dtype: int64"
      ]
     },
     "metadata": {},
     "output_type": "display_data"
    },
    {
     "data": {
      "text/plain": [
       "None"
      ]
     },
     "metadata": {},
     "output_type": "display_data"
    }
   ],
   "source": [
    "def fun_date(data):\n",
    "    display ('**Общая информация датафрейма**')\n",
    "    display(data.info())\n",
    "    print(' ')\n",
    "    display('**Просмотр статистических данных**')\n",
    "    display(data.describe(include= 'all').T)\n",
    "    print(' ')\n",
    "    display('**Вывод первых пяти строк датафрейма**')\n",
    "    display(data.head())\n",
    "    print(' ')\n",
    "    display('**Вывод количесва дубликатов датафрейма**')\n",
    "    display(data.duplicated().sum())\n",
    "    print(' ')\n",
    "    display('**Вывод количесва пропущеных значений датафрейма**')\n",
    "    display(data.isnull().sum())\n",
    "\n",
    "    \n",
    "display(fun_date(df))"
   ]
  },
  {
   "cell_type": "code",
   "execution_count": 4,
   "metadata": {},
   "outputs": [],
   "source": [
    "m = Mystem() \n",
    "corpus = df['text'].values.astype('U')\n",
    "\n",
    "def lemmatize(text):\n",
    "    text=text.lower()\n",
    "    lemm_list = m.lemmatize(text)\n",
    "    lemm_text = \" \".join(lemm_list)\n",
    "    clear_text = re.sub(r'[^a-zA-Z]', ' ', lemm_text)\n",
    "    return \" \".join(clear_text.split())"
   ]
  },
  {
   "cell_type": "code",
   "execution_count": 5,
   "metadata": {},
   "outputs": [],
   "source": [
    "#lemmatizer = WordNetLemmatizer()\n",
    "\n",
    "#def lemmatize(text):\n",
    "    #text=text.lower()\n",
    "    #text = nltk.word_tokenize(text)\n",
    "    #lemm_list = ' '.join([lemmatizer.lemmatize(w) for w in text])\n",
    "    #return lemm_list"
   ]
  },
  {
   "cell_type": "code",
   "execution_count": 6,
   "metadata": {
    "scrolled": true
   },
   "outputs": [],
   "source": [
    "df['text']=df['text'].apply(lemmatize)"
   ]
  },
  {
   "cell_type": "code",
   "execution_count": 7,
   "metadata": {},
   "outputs": [
    {
     "name": "stderr",
     "output_type": "stream",
     "text": [
      "[nltk_data] Downloading package stopwords to /home/jovyan/nltk_data...\n",
      "[nltk_data]   Package stopwords is already up-to-date!\n"
     ]
    }
   ],
   "source": [
    "nltk.download('stopwords')\n",
    "stopwords = set(nltk_stopwords.words('english'))\n",
    "count_tf_idf = TfidfVectorizer(stop_words=stopwords)"
   ]
  },
  {
   "cell_type": "code",
   "execution_count": 8,
   "metadata": {},
   "outputs": [],
   "source": [
    "target = df['toxic']\n",
    "features = df.drop(['toxic'], axis=1)\n",
    "\n",
    "x_train, x_test, y_train, y_test = train_test_split(features, target, test_size=0.2, random_state=RND)"
   ]
  },
  {
   "cell_type": "code",
   "execution_count": 9,
   "metadata": {},
   "outputs": [],
   "source": [
    "x_train = count_tf_idf.fit_transform(x_train['text'])\n",
    "x_test= count_tf_idf.transform(x_test['text'])"
   ]
  },
  {
   "cell_type": "code",
   "execution_count": 10,
   "metadata": {
    "scrolled": false
   },
   "outputs": [
    {
     "data": {
      "text/plain": [
       "0    143346\n",
       "1     16225\n",
       "Name: toxic, dtype: int64"
      ]
     },
     "execution_count": 10,
     "metadata": {},
     "output_type": "execute_result"
    }
   ],
   "source": [
    "df['toxic'].value_counts()"
   ]
  },
  {
   "cell_type": "markdown",
   "metadata": {},
   "source": [
    "Т о , мы предобработали данные , также увидели , что классы не сбалансированы , поэтому будем использовать class_weight=\"balanced\""
   ]
  },
  {
   "cell_type": "markdown",
   "metadata": {},
   "source": [
    "## Обучение"
   ]
  },
  {
   "cell_type": "markdown",
   "metadata": {},
   "source": [
    "### DecisionTree"
   ]
  },
  {
   "cell_type": "code",
   "execution_count": 11,
   "metadata": {},
   "outputs": [
    {
     "name": "stdout",
     "output_type": "stream",
     "text": [
      "Fitting 3 folds for each of 6 candidates, totalling 18 fits\n",
      "{'criterion': 'entropy', 'max_depth': 15}\n"
     ]
    }
   ],
   "source": [
    "model = DecisionTreeClassifier(random_state=RND, class_weight=\"balanced\")\n",
    "params = {\n",
    "   'criterion':['gini', 'entropy'],        \n",
    "   'max_depth':[5,10,15]\n",
    "}\n",
    "tree_gs = GridSearchCV(model, params, cv=3, scoring='f1', verbose=True).fit(x_train, y_train)\n",
    "print(tree_gs.best_params_)"
   ]
  },
  {
   "cell_type": "code",
   "execution_count": 12,
   "metadata": {
    "scrolled": true
   },
   "outputs": [
    {
     "data": {
      "text/plain": [
       "DecisionTreeClassifier(class_weight='balanced', criterion='entropy',\n",
       "                       max_depth=15, random_state=12345)"
      ]
     },
     "execution_count": 12,
     "metadata": {},
     "output_type": "execute_result"
    }
   ],
   "source": [
    "model=DecisionTreeClassifier(random_state = RND,class_weight=\"balanced\", criterion= 'entropy', max_depth=15)\n",
    "model.fit(x_train, y_train)"
   ]
  },
  {
   "cell_type": "code",
   "execution_count": 13,
   "metadata": {},
   "outputs": [
    {
     "name": "stdout",
     "output_type": "stream",
     "text": [
      "Best f1 score RF: 0.5968278832974349\n"
     ]
    }
   ],
   "source": [
    "print(\"Best f1 score RF:\",f1_score(y_test,model.predict(x_test)))"
   ]
  },
  {
   "cell_type": "markdown",
   "metadata": {},
   "source": [
    "### RandomForest"
   ]
  },
  {
   "cell_type": "code",
   "execution_count": 14,
   "metadata": {},
   "outputs": [
    {
     "name": "stdout",
     "output_type": "stream",
     "text": [
      "Fitting 3 folds for each of 4 candidates, totalling 12 fits\n",
      "{'max_depth': 9, 'n_estimators': 98}\n"
     ]
    }
   ],
   "source": [
    "model1 = RandomForestClassifier(random_state=RND, class_weight=\"balanced\")\n",
    "grid = {\"max_depth\":range(8,10), 'n_estimators':  range(98,100)}\n",
    "\n",
    "\n",
    "grs=GridSearchCV( model1, param_grid =grid, cv=3, scoring='f1', verbose=True)\n",
    "grs.fit(x_train, y_train)\n",
    "print(grs.best_params_)"
   ]
  },
  {
   "cell_type": "code",
   "execution_count": 15,
   "metadata": {},
   "outputs": [
    {
     "name": "stdout",
     "output_type": "stream",
     "text": [
      "CPU times: user 3.31 s, sys: 31.7 ms, total: 3.34 s\n",
      "Wall time: 3.35 s\n"
     ]
    },
    {
     "data": {
      "text/plain": [
       "RandomForestClassifier(class_weight='balanced', max_depth=9, n_estimators=98,\n",
       "                       random_state=12345)"
      ]
     },
     "execution_count": 15,
     "metadata": {},
     "output_type": "execute_result"
    }
   ],
   "source": [
    "%%time\n",
    "model1=RandomForestClassifier(random_state=RND, class_weight=\"balanced\",max_depth= 9, n_estimators=98)\n",
    "model1.fit(x_train, y_train)"
   ]
  },
  {
   "cell_type": "code",
   "execution_count": 16,
   "metadata": {},
   "outputs": [
    {
     "name": "stdout",
     "output_type": "stream",
     "text": [
      "Best f1 score RF: 0.3630681078265399\n"
     ]
    }
   ],
   "source": [
    "print(\"Best f1 score RF:\",f1_score(y_test, model1.predict(x_test)))"
   ]
  },
  {
   "cell_type": "markdown",
   "metadata": {},
   "source": [
    "### LogisticRegression"
   ]
  },
  {
   "cell_type": "code",
   "execution_count": 17,
   "metadata": {},
   "outputs": [
    {
     "name": "stdout",
     "output_type": "stream",
     "text": [
      "Fitting 5 folds for each of 2 candidates, totalling 10 fits\n"
     ]
    },
    {
     "data": {
      "text/plain": [
       "{'C': 0.9, 'max_iter': 90}"
      ]
     },
     "execution_count": 17,
     "metadata": {},
     "output_type": "execute_result"
    }
   ],
   "source": [
    "model2= LogisticRegression(random_state=RND, class_weight=\"balanced\")\n",
    "grid2 = GridSearchCV(model2, {\"C\":[0.9], \"max_iter\": [50,90]},  scoring='f1', verbose=True)\n",
    "\n",
    "grs2=grid2.fit(x_train, y_train)\n",
    "grs2.best_params_"
   ]
  },
  {
   "cell_type": "code",
   "execution_count": 18,
   "metadata": {},
   "outputs": [
    {
     "name": "stdout",
     "output_type": "stream",
     "text": [
      "Best f1 score LR: 0.7529251700680272\n"
     ]
    }
   ],
   "source": [
    "print(\"Best f1 score LR:\",f1_score(y_test, grs2.predict(x_test)))"
   ]
  },
  {
   "cell_type": "code",
   "execution_count": 19,
   "metadata": {
    "scrolled": true
   },
   "outputs": [
    {
     "name": "stdout",
     "output_type": "stream",
     "text": [
      "CPU times: user 20.7 s, sys: 24.9 s, total: 45.6 s\n",
      "Wall time: 45.7 s\n"
     ]
    }
   ],
   "source": [
    "%%time\n",
    "\n",
    "model2=LogisticRegression(C=0.9, max_iter = 90, random_state=RND, class_weight=\"balanced\").fit(x_train, y_train)"
   ]
  },
  {
   "cell_type": "code",
   "execution_count": 20,
   "metadata": {},
   "outputs": [
    {
     "name": "stdout",
     "output_type": "stream",
     "text": [
      "Best f1 score LR: 0.7529251700680272\n"
     ]
    }
   ],
   "source": [
    "print(\"Best f1 score LR:\",f1_score(y_test, model2.predict(x_test)))"
   ]
  },
  {
   "cell_type": "markdown",
   "metadata": {},
   "source": [
    "### LogisticRegression with Pipeline"
   ]
  },
  {
   "cell_type": "code",
   "execution_count": 21,
   "metadata": {},
   "outputs": [],
   "source": [
    "pipe_lr = Pipeline([('clf', LogisticRegression(random_state=RND))])\n",
    "gs3= GridSearchCV(estimator=pipe_lr,\n",
    "            param_grid=[{'clf__penalty': ['l1', 'l2'],\n",
    "                         'clf__solver': ['liblinear']}] ,\n",
    "            scoring='f1',\n",
    "            cv=10) "
   ]
  },
  {
   "cell_type": "code",
   "execution_count": 22,
   "metadata": {},
   "outputs": [
    {
     "name": "stdout",
     "output_type": "stream",
     "text": [
      "CPU times: user 55.8 s, sys: 40.9 s, total: 1min 36s\n",
      "Wall time: 1min 37s\n"
     ]
    },
    {
     "data": {
      "text/plain": [
       "GridSearchCV(cv=10,\n",
       "             estimator=Pipeline(steps=[('clf',\n",
       "                                        LogisticRegression(random_state=12345))]),\n",
       "             param_grid=[{'clf__penalty': ['l1', 'l2'],\n",
       "                          'clf__solver': ['liblinear']}],\n",
       "             scoring='f1')"
      ]
     },
     "execution_count": 22,
     "metadata": {},
     "output_type": "execute_result"
    }
   ],
   "source": [
    "%%time\n",
    "\n",
    "gs3.fit(x_train, y_train)"
   ]
  },
  {
   "cell_type": "code",
   "execution_count": 23,
   "metadata": {
    "scrolled": true
   },
   "outputs": [
    {
     "data": {
      "text/plain": [
       "{'clf__penalty': 'l1', 'clf__solver': 'liblinear'}"
      ]
     },
     "execution_count": 23,
     "metadata": {},
     "output_type": "execute_result"
    }
   ],
   "source": [
    "gs3.best_params_"
   ]
  },
  {
   "cell_type": "code",
   "execution_count": 24,
   "metadata": {
    "scrolled": true
   },
   "outputs": [
    {
     "name": "stdout",
     "output_type": "stream",
     "text": [
      "Best f1 score LR PIP: 0.772194011556645\n"
     ]
    }
   ],
   "source": [
    "print(\"Best f1 score LR PIP:\",f1_score(y_test, gs3.predict(x_test)))"
   ]
  },
  {
   "cell_type": "markdown",
   "metadata": {},
   "source": [
    "## Выводы"
   ]
  },
  {
   "cell_type": "markdown",
   "metadata": {},
   "source": [
    "Итак, мы предобработали данные, разбили данные на выборки, обучили 3 разных модели и подобрали гиперпараметры, определили лучшую модель по качеству.\n",
    "\n",
    "Лучшее качество модели также у LogisticRegression, где F=0.7529 (LogisticRegression с Pipeline F=0,77), поэтому  Магазину \"Викишоп\" больше подходит модель LogisticRegression, которая будет искать токсичные комментарии и отправлять их на модерацию.\n",
    "\n"
   ]
  }
 ],
 "metadata": {
  "ExecuteTimeLog": [
   {
    "duration": 2339,
    "start_time": "2022-05-28T09:33:01.865Z"
   },
   {
    "duration": 141,
    "start_time": "2022-05-28T09:33:04.206Z"
   },
   {
    "duration": 0,
    "start_time": "2022-05-28T09:33:04.348Z"
   },
   {
    "duration": 16,
    "start_time": "2022-05-28T09:33:28.970Z"
   },
   {
    "duration": 18,
    "start_time": "2022-05-28T09:33:49.995Z"
   },
   {
    "duration": 2144,
    "start_time": "2022-05-28T09:34:53.812Z"
   },
   {
    "duration": 794,
    "start_time": "2022-05-28T09:34:56.434Z"
   },
   {
    "duration": 405,
    "start_time": "2022-05-28T09:35:26.484Z"
   },
   {
    "duration": 8,
    "start_time": "2022-05-28T09:35:39.323Z"
   },
   {
    "duration": 21,
    "start_time": "2022-05-28T09:38:11.937Z"
   },
   {
    "duration": 13,
    "start_time": "2022-05-28T09:38:41.835Z"
   },
   {
    "duration": 1935,
    "start_time": "2022-05-28T09:38:48.451Z"
   },
   {
    "duration": 988,
    "start_time": "2022-05-28T09:39:11.699Z"
   },
   {
    "duration": 4,
    "start_time": "2022-05-28T09:41:38.237Z"
   },
   {
    "duration": 30,
    "start_time": "2022-05-28T09:41:50.261Z"
   },
   {
    "duration": 5,
    "start_time": "2022-05-28T09:42:02.261Z"
   },
   {
    "duration": 18,
    "start_time": "2022-05-28T09:45:54.175Z"
   },
   {
    "duration": 8,
    "start_time": "2022-05-28T09:46:35.240Z"
   },
   {
    "duration": 16,
    "start_time": "2022-05-28T09:46:39.032Z"
   },
   {
    "duration": 11,
    "start_time": "2022-05-28T09:46:54.889Z"
   },
   {
    "duration": 10565,
    "start_time": "2022-05-28T09:47:15.234Z"
   },
   {
    "duration": 2077,
    "start_time": "2022-05-28T10:16:04.573Z"
   },
   {
    "duration": 3158,
    "start_time": "2022-05-28T10:16:06.652Z"
   },
   {
    "duration": 554,
    "start_time": "2022-05-28T10:16:09.812Z"
   },
   {
    "duration": 1941,
    "start_time": "2022-05-28T10:16:10.368Z"
   },
   {
    "duration": 12,
    "start_time": "2022-05-28T10:16:12.311Z"
   },
   {
    "duration": 9,
    "start_time": "2022-05-28T10:16:12.324Z"
   },
   {
    "duration": 0,
    "start_time": "2022-05-28T10:16:12.335Z"
   },
   {
    "duration": 903,
    "start_time": "2022-05-28T10:16:28.928Z"
   },
   {
    "duration": 3,
    "start_time": "2022-05-28T10:17:02.667Z"
   },
   {
    "duration": 15,
    "start_time": "2022-05-28T10:17:08.763Z"
   },
   {
    "duration": 2065,
    "start_time": "2022-05-28T10:21:12.600Z"
   },
   {
    "duration": 3236,
    "start_time": "2022-05-28T10:21:14.668Z"
   },
   {
    "duration": 604,
    "start_time": "2022-05-28T10:21:17.906Z"
   },
   {
    "duration": 1949,
    "start_time": "2022-05-28T10:21:18.512Z"
   },
   {
    "duration": 9,
    "start_time": "2022-05-28T10:21:20.463Z"
   },
   {
    "duration": 824,
    "start_time": "2022-05-28T10:21:20.474Z"
   },
   {
    "duration": 153,
    "start_time": "2022-05-28T10:21:21.301Z"
   },
   {
    "duration": 0,
    "start_time": "2022-05-28T10:21:21.456Z"
   },
   {
    "duration": 0,
    "start_time": "2022-05-28T10:21:21.460Z"
   },
   {
    "duration": 76,
    "start_time": "2022-05-28T10:22:05.981Z"
   },
   {
    "duration": 1930,
    "start_time": "2022-05-28T10:22:13.195Z"
   },
   {
    "duration": 3271,
    "start_time": "2022-05-28T10:22:15.126Z"
   },
   {
    "duration": 13112,
    "start_time": "2022-05-28T10:22:18.399Z"
   },
   {
    "duration": 11,
    "start_time": "2022-05-28T10:24:24.498Z"
   },
   {
    "duration": 23115,
    "start_time": "2022-05-28T10:24:35.828Z"
   },
   {
    "duration": 8,
    "start_time": "2022-05-28T10:34:49.417Z"
   },
   {
    "duration": 1824,
    "start_time": "2022-05-28T10:35:00.838Z"
   },
   {
    "duration": 13,
    "start_time": "2022-05-28T10:35:02.664Z"
   },
   {
    "duration": 51,
    "start_time": "2022-05-28T10:35:06.971Z"
   },
   {
    "duration": 6,
    "start_time": "2022-05-28T10:35:47.720Z"
   },
   {
    "duration": 1720,
    "start_time": "2022-05-28T10:35:53.806Z"
   },
   {
    "duration": 3030,
    "start_time": "2022-05-28T10:35:55.527Z"
   },
   {
    "duration": 463,
    "start_time": "2022-05-28T10:35:58.558Z"
   },
   {
    "duration": 1774,
    "start_time": "2022-05-28T10:35:59.023Z"
   },
   {
    "duration": 16,
    "start_time": "2022-05-28T10:36:00.799Z"
   },
   {
    "duration": 139,
    "start_time": "2022-05-28T10:36:00.816Z"
   },
   {
    "duration": 0,
    "start_time": "2022-05-28T10:36:00.957Z"
   },
   {
    "duration": 0,
    "start_time": "2022-05-28T10:36:00.959Z"
   },
   {
    "duration": 0,
    "start_time": "2022-05-28T10:36:00.960Z"
   },
   {
    "duration": 0,
    "start_time": "2022-05-28T10:36:00.961Z"
   },
   {
    "duration": 0,
    "start_time": "2022-05-28T10:36:00.963Z"
   },
   {
    "duration": 0,
    "start_time": "2022-05-28T10:36:00.964Z"
   },
   {
    "duration": 0,
    "start_time": "2022-05-28T10:36:00.965Z"
   },
   {
    "duration": 8753,
    "start_time": "2022-05-28T10:36:11.945Z"
   },
   {
    "duration": 21760,
    "start_time": "2022-05-28T10:36:20.700Z"
   },
   {
    "duration": 4,
    "start_time": "2022-05-28T10:37:35.890Z"
   },
   {
    "duration": 618,
    "start_time": "2022-05-28T10:39:58.110Z"
   },
   {
    "duration": 7098,
    "start_time": "2022-05-28T10:40:05.194Z"
   },
   {
    "duration": 22601,
    "start_time": "2022-05-28T10:40:20.506Z"
   },
   {
    "duration": 241,
    "start_time": "2022-05-28T10:40:51.899Z"
   },
   {
    "duration": 6,
    "start_time": "2022-05-28T10:41:47.140Z"
   },
   {
    "duration": 14287,
    "start_time": "2022-05-28T10:42:08.748Z"
   },
   {
    "duration": 13,
    "start_time": "2022-05-28T10:42:56.419Z"
   },
   {
    "duration": 4,
    "start_time": "2022-05-28T10:43:06.625Z"
   },
   {
    "duration": 1603,
    "start_time": "2022-05-28T10:43:19.660Z"
   },
   {
    "duration": 725,
    "start_time": "2022-05-28T10:43:21.266Z"
   },
   {
    "duration": 502,
    "start_time": "2022-05-28T10:43:21.993Z"
   },
   {
    "duration": 1827,
    "start_time": "2022-05-28T10:43:22.497Z"
   },
   {
    "duration": 5,
    "start_time": "2022-05-28T10:43:24.326Z"
   },
   {
    "duration": 726,
    "start_time": "2022-05-28T10:43:24.333Z"
   },
   {
    "duration": 8696,
    "start_time": "2022-05-28T10:43:25.061Z"
   },
   {
    "duration": 4,
    "start_time": "2022-05-28T10:43:33.759Z"
   },
   {
    "duration": 253,
    "start_time": "2022-05-28T10:43:33.765Z"
   },
   {
    "duration": 0,
    "start_time": "2022-05-28T10:43:34.019Z"
   },
   {
    "duration": 0,
    "start_time": "2022-05-28T10:43:34.020Z"
   },
   {
    "duration": 0,
    "start_time": "2022-05-28T10:43:34.021Z"
   },
   {
    "duration": 0,
    "start_time": "2022-05-28T10:43:34.022Z"
   },
   {
    "duration": 0,
    "start_time": "2022-05-28T10:43:34.024Z"
   },
   {
    "duration": 0,
    "start_time": "2022-05-28T10:43:34.025Z"
   },
   {
    "duration": 12,
    "start_time": "2022-05-28T10:43:53.357Z"
   },
   {
    "duration": 10,
    "start_time": "2022-05-28T10:44:02.575Z"
   },
   {
    "duration": 57,
    "start_time": "2022-05-28T10:44:43.360Z"
   },
   {
    "duration": 1439,
    "start_time": "2022-05-28T10:45:26.384Z"
   },
   {
    "duration": 734,
    "start_time": "2022-05-28T10:45:27.825Z"
   },
   {
    "duration": 478,
    "start_time": "2022-05-28T10:45:28.561Z"
   },
   {
    "duration": 22647,
    "start_time": "2022-05-28T10:45:29.041Z"
   },
   {
    "duration": 1837,
    "start_time": "2022-05-28T10:45:51.690Z"
   },
   {
    "duration": 13,
    "start_time": "2022-05-28T10:45:53.529Z"
   },
   {
    "duration": 1806,
    "start_time": "2022-05-28T10:46:45.874Z"
   },
   {
    "duration": 3046,
    "start_time": "2022-05-28T10:46:47.683Z"
   },
   {
    "duration": 503,
    "start_time": "2022-05-28T10:46:50.731Z"
   },
   {
    "duration": 1876,
    "start_time": "2022-05-28T10:46:51.236Z"
   },
   {
    "duration": 155,
    "start_time": "2022-05-28T10:46:53.115Z"
   },
   {
    "duration": 0,
    "start_time": "2022-05-28T10:46:53.272Z"
   },
   {
    "duration": 1,
    "start_time": "2022-05-28T10:46:53.273Z"
   },
   {
    "duration": 0,
    "start_time": "2022-05-28T10:46:53.275Z"
   },
   {
    "duration": 0,
    "start_time": "2022-05-28T10:46:53.277Z"
   },
   {
    "duration": 0,
    "start_time": "2022-05-28T10:46:53.278Z"
   },
   {
    "duration": 0,
    "start_time": "2022-05-28T10:46:53.279Z"
   },
   {
    "duration": 0,
    "start_time": "2022-05-28T10:46:53.281Z"
   },
   {
    "duration": 0,
    "start_time": "2022-05-28T10:46:53.282Z"
   },
   {
    "duration": 0,
    "start_time": "2022-05-28T10:46:53.284Z"
   },
   {
    "duration": 0,
    "start_time": "2022-05-28T10:46:53.285Z"
   },
   {
    "duration": 1793,
    "start_time": "2022-05-28T10:47:19.077Z"
   },
   {
    "duration": 720,
    "start_time": "2022-05-28T10:47:20.871Z"
   },
   {
    "duration": 525,
    "start_time": "2022-05-28T10:47:21.593Z"
   },
   {
    "duration": 1813,
    "start_time": "2022-05-28T10:47:22.121Z"
   },
   {
    "duration": 7,
    "start_time": "2022-05-28T10:47:23.936Z"
   },
   {
    "duration": 778,
    "start_time": "2022-05-28T10:47:23.945Z"
   },
   {
    "duration": 9070,
    "start_time": "2022-05-28T10:47:24.725Z"
   },
   {
    "duration": 4,
    "start_time": "2022-05-28T10:47:33.797Z"
   },
   {
    "duration": 138,
    "start_time": "2022-05-28T10:47:33.802Z"
   },
   {
    "duration": 0,
    "start_time": "2022-05-28T10:47:33.942Z"
   },
   {
    "duration": 0,
    "start_time": "2022-05-28T10:47:33.944Z"
   },
   {
    "duration": 0,
    "start_time": "2022-05-28T10:47:33.945Z"
   },
   {
    "duration": 0,
    "start_time": "2022-05-28T10:47:33.946Z"
   },
   {
    "duration": 0,
    "start_time": "2022-05-28T10:47:33.947Z"
   },
   {
    "duration": 41,
    "start_time": "2022-05-28T10:49:20.577Z"
   },
   {
    "duration": 4,
    "start_time": "2022-05-28T10:50:23.009Z"
   },
   {
    "duration": 54,
    "start_time": "2022-05-28T10:50:59.718Z"
   },
   {
    "duration": 1848,
    "start_time": "2022-05-28T10:51:10.474Z"
   },
   {
    "duration": 3011,
    "start_time": "2022-05-28T10:51:12.323Z"
   },
   {
    "duration": 503,
    "start_time": "2022-05-28T10:51:15.336Z"
   },
   {
    "duration": 1831,
    "start_time": "2022-05-28T10:51:15.841Z"
   },
   {
    "duration": 6,
    "start_time": "2022-05-28T10:51:17.674Z"
   },
   {
    "duration": 779,
    "start_time": "2022-05-28T10:51:17.682Z"
   },
   {
    "duration": 8787,
    "start_time": "2022-05-28T10:51:18.463Z"
   },
   {
    "duration": 5,
    "start_time": "2022-05-28T10:51:27.259Z"
   },
   {
    "duration": 151,
    "start_time": "2022-05-28T10:51:27.265Z"
   },
   {
    "duration": 0,
    "start_time": "2022-05-28T10:51:27.418Z"
   },
   {
    "duration": 0,
    "start_time": "2022-05-28T10:51:27.419Z"
   },
   {
    "duration": 0,
    "start_time": "2022-05-28T10:51:27.420Z"
   },
   {
    "duration": 0,
    "start_time": "2022-05-28T10:51:27.421Z"
   },
   {
    "duration": 49,
    "start_time": "2022-05-28T10:55:56.581Z"
   },
   {
    "duration": 2142,
    "start_time": "2022-05-28T10:56:07.919Z"
   },
   {
    "duration": 3251,
    "start_time": "2022-05-28T10:56:10.065Z"
   },
   {
    "duration": 605,
    "start_time": "2022-05-28T10:56:13.317Z"
   },
   {
    "duration": 1887,
    "start_time": "2022-05-28T10:56:13.924Z"
   },
   {
    "duration": 15,
    "start_time": "2022-05-28T10:56:15.813Z"
   },
   {
    "duration": 786,
    "start_time": "2022-05-28T10:56:15.830Z"
   },
   {
    "duration": 9853,
    "start_time": "2022-05-28T10:56:16.620Z"
   },
   {
    "duration": 3,
    "start_time": "2022-05-28T10:56:26.475Z"
   },
   {
    "duration": 137,
    "start_time": "2022-05-28T10:56:26.480Z"
   },
   {
    "duration": 0,
    "start_time": "2022-05-28T10:56:26.619Z"
   },
   {
    "duration": 0,
    "start_time": "2022-05-28T10:56:26.621Z"
   },
   {
    "duration": 0,
    "start_time": "2022-05-28T10:56:26.621Z"
   },
   {
    "duration": 0,
    "start_time": "2022-05-28T10:56:26.622Z"
   },
   {
    "duration": 22,
    "start_time": "2022-05-28T10:56:35.596Z"
   },
   {
    "duration": 5,
    "start_time": "2022-05-28T10:56:52.078Z"
   },
   {
    "duration": 60,
    "start_time": "2022-05-28T10:57:55.260Z"
   },
   {
    "duration": 26,
    "start_time": "2022-05-28T10:58:34.391Z"
   },
   {
    "duration": 25849,
    "start_time": "2022-05-28T10:58:43.946Z"
   },
   {
    "duration": 33,
    "start_time": "2022-05-28T11:00:22.851Z"
   },
   {
    "duration": 587,
    "start_time": "2022-05-28T11:00:32.291Z"
   },
   {
    "duration": 17,
    "start_time": "2022-05-28T11:00:53.049Z"
   },
   {
    "duration": 5,
    "start_time": "2022-05-28T11:01:09.852Z"
   },
   {
    "duration": 9,
    "start_time": "2022-05-28T11:01:57.043Z"
   },
   {
    "duration": 6,
    "start_time": "2022-05-28T11:07:19.686Z"
   },
   {
    "duration": 18,
    "start_time": "2022-05-28T11:08:00.932Z"
   },
   {
    "duration": 6,
    "start_time": "2022-05-28T11:10:16.390Z"
   },
   {
    "duration": 19,
    "start_time": "2022-05-28T11:10:18.805Z"
   },
   {
    "duration": 5,
    "start_time": "2022-05-28T11:11:12.159Z"
   },
   {
    "duration": 519,
    "start_time": "2022-05-28T11:11:13.151Z"
   },
   {
    "duration": 5,
    "start_time": "2022-05-28T11:12:32.334Z"
   },
   {
    "duration": 592,
    "start_time": "2022-05-28T11:12:35.023Z"
   },
   {
    "duration": 62,
    "start_time": "2022-05-28T11:22:41.763Z"
   },
   {
    "duration": 2093,
    "start_time": "2022-05-28T11:25:12.143Z"
   },
   {
    "duration": 3287,
    "start_time": "2022-05-28T11:25:14.239Z"
   },
   {
    "duration": 598,
    "start_time": "2022-05-28T11:25:17.528Z"
   },
   {
    "duration": 1971,
    "start_time": "2022-05-28T11:25:18.128Z"
   },
   {
    "duration": 2,
    "start_time": "2022-05-28T11:25:20.101Z"
   },
   {
    "duration": 825,
    "start_time": "2022-05-28T11:25:20.105Z"
   },
   {
    "duration": 9451,
    "start_time": "2022-05-28T11:25:20.932Z"
   },
   {
    "duration": 691,
    "start_time": "2022-05-28T11:25:30.385Z"
   },
   {
    "duration": 12,
    "start_time": "2022-05-28T11:25:31.078Z"
   },
   {
    "duration": 728,
    "start_time": "2022-05-28T11:25:31.091Z"
   },
   {
    "duration": 0,
    "start_time": "2022-05-28T11:25:31.821Z"
   },
   {
    "duration": 0,
    "start_time": "2022-05-28T11:25:31.822Z"
   },
   {
    "duration": 0,
    "start_time": "2022-05-28T11:25:31.823Z"
   },
   {
    "duration": 0,
    "start_time": "2022-05-28T11:25:31.824Z"
   },
   {
    "duration": 0,
    "start_time": "2022-05-28T11:25:31.825Z"
   },
   {
    "duration": 0,
    "start_time": "2022-05-28T11:25:31.827Z"
   },
   {
    "duration": 0,
    "start_time": "2022-05-28T11:25:31.828Z"
   },
   {
    "duration": 0,
    "start_time": "2022-05-28T11:25:31.829Z"
   },
   {
    "duration": 10,
    "start_time": "2022-05-28T11:25:41.119Z"
   },
   {
    "duration": 6,
    "start_time": "2022-05-28T11:26:08.512Z"
   },
   {
    "duration": 12,
    "start_time": "2022-05-28T11:26:13.381Z"
   },
   {
    "duration": 5,
    "start_time": "2022-05-28T11:26:34.792Z"
   },
   {
    "duration": 9,
    "start_time": "2022-05-28T11:26:38.285Z"
   },
   {
    "duration": 3,
    "start_time": "2022-05-28T11:27:23.953Z"
   },
   {
    "duration": 10,
    "start_time": "2022-05-28T11:27:26.943Z"
   },
   {
    "duration": 10,
    "start_time": "2022-05-28T11:29:49.025Z"
   },
   {
    "duration": 12,
    "start_time": "2022-05-28T11:29:53.352Z"
   },
   {
    "duration": 7,
    "start_time": "2022-05-28T11:30:19.533Z"
   },
   {
    "duration": 2,
    "start_time": "2022-05-28T11:30:25.650Z"
   },
   {
    "duration": 53,
    "start_time": "2022-05-28T11:30:26.969Z"
   },
   {
    "duration": 49,
    "start_time": "2022-05-28T11:31:20.669Z"
   },
   {
    "duration": 58,
    "start_time": "2022-05-28T11:31:41.371Z"
   },
   {
    "duration": 29,
    "start_time": "2022-05-28T11:32:59.963Z"
   },
   {
    "duration": 1829,
    "start_time": "2022-05-28T11:34:22.678Z"
   },
   {
    "duration": 2721,
    "start_time": "2022-05-28T11:34:24.509Z"
   },
   {
    "duration": 517,
    "start_time": "2022-05-28T11:34:27.232Z"
   },
   {
    "duration": 1864,
    "start_time": "2022-05-28T11:34:27.758Z"
   },
   {
    "duration": 7,
    "start_time": "2022-05-28T11:34:29.625Z"
   },
   {
    "duration": 761,
    "start_time": "2022-05-28T11:34:29.633Z"
   },
   {
    "duration": 8809,
    "start_time": "2022-05-28T11:34:30.396Z"
   },
   {
    "duration": 640,
    "start_time": "2022-05-28T11:34:39.206Z"
   },
   {
    "duration": 12,
    "start_time": "2022-05-28T11:34:39.848Z"
   },
   {
    "duration": 140,
    "start_time": "2022-05-28T11:34:39.862Z"
   },
   {
    "duration": 0,
    "start_time": "2022-05-28T11:34:40.004Z"
   },
   {
    "duration": 0,
    "start_time": "2022-05-28T11:34:40.006Z"
   },
   {
    "duration": 0,
    "start_time": "2022-05-28T11:34:40.006Z"
   },
   {
    "duration": 0,
    "start_time": "2022-05-28T11:34:40.007Z"
   },
   {
    "duration": 0,
    "start_time": "2022-05-28T11:34:40.009Z"
   },
   {
    "duration": 0,
    "start_time": "2022-05-28T11:34:40.009Z"
   },
   {
    "duration": 0,
    "start_time": "2022-05-28T11:34:40.010Z"
   },
   {
    "duration": 3,
    "start_time": "2022-05-28T11:34:45.510Z"
   },
   {
    "duration": 53,
    "start_time": "2022-05-28T11:34:46.375Z"
   },
   {
    "duration": 32,
    "start_time": "2022-05-28T11:34:58.255Z"
   },
   {
    "duration": 78,
    "start_time": "2022-05-28T11:35:23.350Z"
   },
   {
    "duration": 55,
    "start_time": "2022-05-28T11:37:32.619Z"
   },
   {
    "duration": 7,
    "start_time": "2022-05-28T11:42:09.786Z"
   },
   {
    "duration": 31,
    "start_time": "2022-05-28T11:45:13.787Z"
   },
   {
    "duration": 7,
    "start_time": "2022-05-28T11:45:17.825Z"
   },
   {
    "duration": 2094,
    "start_time": "2022-05-28T11:46:47.804Z"
   },
   {
    "duration": 3067,
    "start_time": "2022-05-28T11:46:49.900Z"
   },
   {
    "duration": 559,
    "start_time": "2022-05-28T11:46:52.969Z"
   },
   {
    "duration": 1942,
    "start_time": "2022-05-28T11:46:53.530Z"
   },
   {
    "duration": 7,
    "start_time": "2022-05-28T11:46:55.474Z"
   },
   {
    "duration": 767,
    "start_time": "2022-05-28T11:46:55.483Z"
   },
   {
    "duration": 2188,
    "start_time": "2022-05-28T11:47:37.027Z"
   },
   {
    "duration": 3023,
    "start_time": "2022-05-28T11:47:39.217Z"
   },
   {
    "duration": 504,
    "start_time": "2022-05-28T11:47:42.241Z"
   },
   {
    "duration": 1850,
    "start_time": "2022-05-28T11:47:42.759Z"
   },
   {
    "duration": 8,
    "start_time": "2022-05-28T11:47:44.611Z"
   },
   {
    "duration": 769,
    "start_time": "2022-05-28T11:47:44.621Z"
   },
   {
    "duration": 50,
    "start_time": "2022-05-28T11:50:10.526Z"
   },
   {
    "duration": 6,
    "start_time": "2022-05-28T11:50:22.726Z"
   },
   {
    "duration": 1974,
    "start_time": "2022-05-28T11:50:27.561Z"
   },
   {
    "duration": 3069,
    "start_time": "2022-05-28T11:50:29.537Z"
   },
   {
    "duration": 465,
    "start_time": "2022-05-28T11:50:32.607Z"
   },
   {
    "duration": 1840,
    "start_time": "2022-05-28T11:50:33.074Z"
   },
   {
    "duration": 5,
    "start_time": "2022-05-28T11:50:34.916Z"
   },
   {
    "duration": 871,
    "start_time": "2022-05-28T11:50:34.923Z"
   },
   {
    "duration": 137,
    "start_time": "2022-05-28T11:50:35.797Z"
   },
   {
    "duration": 0,
    "start_time": "2022-05-28T11:50:35.936Z"
   },
   {
    "duration": 0,
    "start_time": "2022-05-28T11:50:35.937Z"
   },
   {
    "duration": 0,
    "start_time": "2022-05-28T11:50:35.938Z"
   },
   {
    "duration": 0,
    "start_time": "2022-05-28T11:50:35.939Z"
   },
   {
    "duration": 0,
    "start_time": "2022-05-28T11:50:35.940Z"
   },
   {
    "duration": 0,
    "start_time": "2022-05-28T11:50:35.941Z"
   },
   {
    "duration": 0,
    "start_time": "2022-05-28T11:50:35.942Z"
   },
   {
    "duration": 0,
    "start_time": "2022-05-28T11:50:35.943Z"
   },
   {
    "duration": 0,
    "start_time": "2022-05-28T11:50:35.943Z"
   },
   {
    "duration": 0,
    "start_time": "2022-05-28T11:50:35.944Z"
   },
   {
    "duration": 0,
    "start_time": "2022-05-28T11:50:35.945Z"
   },
   {
    "duration": 0,
    "start_time": "2022-05-28T11:50:35.959Z"
   },
   {
    "duration": 0,
    "start_time": "2022-05-28T11:50:35.960Z"
   },
   {
    "duration": 10,
    "start_time": "2022-05-28T11:51:04.144Z"
   },
   {
    "duration": 1549,
    "start_time": "2022-05-28T11:51:25.634Z"
   },
   {
    "duration": 741,
    "start_time": "2022-05-28T11:51:27.185Z"
   },
   {
    "duration": 502,
    "start_time": "2022-05-28T11:51:27.928Z"
   },
   {
    "duration": 1846,
    "start_time": "2022-05-28T11:51:28.432Z"
   },
   {
    "duration": 7,
    "start_time": "2022-05-28T11:51:30.280Z"
   },
   {
    "duration": 740,
    "start_time": "2022-05-28T11:51:30.289Z"
   },
   {
    "duration": 1899,
    "start_time": "2022-05-28T11:57:39.557Z"
   },
   {
    "duration": 3051,
    "start_time": "2022-05-28T11:57:41.458Z"
   },
   {
    "duration": 470,
    "start_time": "2022-05-28T11:57:44.511Z"
   },
   {
    "duration": 1820,
    "start_time": "2022-05-28T11:57:44.982Z"
   },
   {
    "duration": 9,
    "start_time": "2022-05-28T11:57:46.804Z"
   },
   {
    "duration": 777,
    "start_time": "2022-05-28T11:57:46.814Z"
   },
   {
    "duration": 8912,
    "start_time": "2022-05-28T11:57:47.593Z"
   },
   {
    "duration": 136,
    "start_time": "2022-05-28T11:57:56.506Z"
   },
   {
    "duration": 0,
    "start_time": "2022-05-28T11:57:56.643Z"
   },
   {
    "duration": 0,
    "start_time": "2022-05-28T11:57:56.644Z"
   },
   {
    "duration": 0,
    "start_time": "2022-05-28T11:57:56.645Z"
   },
   {
    "duration": 0,
    "start_time": "2022-05-28T11:57:56.646Z"
   },
   {
    "duration": 0,
    "start_time": "2022-05-28T11:57:56.647Z"
   },
   {
    "duration": 0,
    "start_time": "2022-05-28T11:57:56.648Z"
   },
   {
    "duration": 0,
    "start_time": "2022-05-28T11:57:56.649Z"
   },
   {
    "duration": 0,
    "start_time": "2022-05-28T11:57:56.650Z"
   },
   {
    "duration": 0,
    "start_time": "2022-05-28T11:57:56.659Z"
   },
   {
    "duration": 0,
    "start_time": "2022-05-28T11:57:56.660Z"
   },
   {
    "duration": 0,
    "start_time": "2022-05-28T11:57:56.661Z"
   },
   {
    "duration": 0,
    "start_time": "2022-05-28T11:57:56.662Z"
   },
   {
    "duration": 251,
    "start_time": "2022-05-28T12:00:08.389Z"
   },
   {
    "duration": 1672,
    "start_time": "2022-05-28T12:06:06.418Z"
   },
   {
    "duration": 715,
    "start_time": "2022-05-28T12:06:08.093Z"
   },
   {
    "duration": 496,
    "start_time": "2022-05-28T12:06:08.810Z"
   },
   {
    "duration": 1835,
    "start_time": "2022-05-28T12:06:09.308Z"
   },
   {
    "duration": 5,
    "start_time": "2022-05-28T12:06:11.145Z"
   },
   {
    "duration": 82556,
    "start_time": "2022-05-28T12:06:11.151Z"
   },
   {
    "duration": 145,
    "start_time": "2022-05-28T12:07:33.709Z"
   },
   {
    "duration": 0,
    "start_time": "2022-05-28T12:07:33.856Z"
   },
   {
    "duration": 0,
    "start_time": "2022-05-28T12:07:33.857Z"
   },
   {
    "duration": 0,
    "start_time": "2022-05-28T12:07:33.858Z"
   },
   {
    "duration": 0,
    "start_time": "2022-05-28T12:07:33.860Z"
   },
   {
    "duration": 1,
    "start_time": "2022-05-28T12:07:33.860Z"
   },
   {
    "duration": 0,
    "start_time": "2022-05-28T12:07:33.861Z"
   },
   {
    "duration": 0,
    "start_time": "2022-05-28T12:07:33.862Z"
   },
   {
    "duration": 0,
    "start_time": "2022-05-28T12:07:33.864Z"
   },
   {
    "duration": 0,
    "start_time": "2022-05-28T12:07:33.865Z"
   },
   {
    "duration": 0,
    "start_time": "2022-05-28T12:07:33.865Z"
   },
   {
    "duration": 0,
    "start_time": "2022-05-28T12:07:33.866Z"
   },
   {
    "duration": 0,
    "start_time": "2022-05-28T12:07:33.867Z"
   },
   {
    "duration": 0,
    "start_time": "2022-05-28T12:07:33.868Z"
   },
   {
    "duration": 0,
    "start_time": "2022-05-28T12:07:33.869Z"
   },
   {
    "duration": 31,
    "start_time": "2022-05-28T12:08:23.772Z"
   },
   {
    "duration": 55,
    "start_time": "2022-05-28T12:09:25.084Z"
   },
   {
    "duration": 1907,
    "start_time": "2022-05-28T12:09:37.648Z"
   },
   {
    "duration": 3046,
    "start_time": "2022-05-28T12:09:39.557Z"
   },
   {
    "duration": 502,
    "start_time": "2022-05-28T12:09:42.604Z"
   },
   {
    "duration": 1850,
    "start_time": "2022-05-28T12:09:43.107Z"
   },
   {
    "duration": 87501,
    "start_time": "2022-05-28T12:09:44.960Z"
   },
   {
    "duration": 27,
    "start_time": "2022-05-28T12:11:12.464Z"
   },
   {
    "duration": 1995,
    "start_time": "2022-05-28T12:13:22.917Z"
   },
   {
    "duration": 3201,
    "start_time": "2022-05-28T12:13:24.914Z"
   },
   {
    "duration": 545,
    "start_time": "2022-05-28T12:13:28.118Z"
   },
   {
    "duration": 1956,
    "start_time": "2022-05-28T12:13:28.665Z"
   },
   {
    "duration": 86266,
    "start_time": "2022-05-28T12:13:30.623Z"
   },
   {
    "duration": 27,
    "start_time": "2022-05-28T12:14:56.891Z"
   },
   {
    "duration": 5,
    "start_time": "2022-05-28T12:14:56.919Z"
   },
   {
    "duration": 1785,
    "start_time": "2022-05-28T12:15:35.190Z"
   },
   {
    "duration": 3080,
    "start_time": "2022-05-28T12:15:36.977Z"
   },
   {
    "duration": 522,
    "start_time": "2022-05-28T12:15:40.058Z"
   },
   {
    "duration": 1870,
    "start_time": "2022-05-28T12:15:40.581Z"
   },
   {
    "duration": 86167,
    "start_time": "2022-05-28T12:15:42.453Z"
   },
   {
    "duration": 38,
    "start_time": "2022-05-28T12:17:08.622Z"
   },
   {
    "duration": 5,
    "start_time": "2022-05-28T12:17:08.662Z"
   },
   {
    "duration": 53,
    "start_time": "2022-05-28T12:17:35.959Z"
   },
   {
    "duration": 1901,
    "start_time": "2022-05-28T12:18:24.042Z"
   },
   {
    "duration": 3042,
    "start_time": "2022-05-28T12:18:25.945Z"
   },
   {
    "duration": 482,
    "start_time": "2022-05-28T12:18:28.989Z"
   },
   {
    "duration": 1855,
    "start_time": "2022-05-28T12:18:29.472Z"
   },
   {
    "duration": 85898,
    "start_time": "2022-05-28T12:18:31.329Z"
   },
   {
    "duration": 36,
    "start_time": "2022-05-28T12:19:57.228Z"
   },
   {
    "duration": 30,
    "start_time": "2022-05-28T12:19:57.266Z"
   },
   {
    "duration": 2224,
    "start_time": "2022-05-28T12:22:19.168Z"
   },
   {
    "duration": 3147,
    "start_time": "2022-05-28T12:22:21.395Z"
   },
   {
    "duration": 542,
    "start_time": "2022-05-28T12:22:24.543Z"
   },
   {
    "duration": 1874,
    "start_time": "2022-05-28T12:22:25.086Z"
   },
   {
    "duration": 92172,
    "start_time": "2022-05-28T12:22:26.963Z"
   },
   {
    "duration": 5,
    "start_time": "2022-05-28T12:23:59.137Z"
   },
   {
    "duration": 130,
    "start_time": "2022-05-28T12:23:59.144Z"
   },
   {
    "duration": 0,
    "start_time": "2022-05-28T12:23:59.275Z"
   },
   {
    "duration": 0,
    "start_time": "2022-05-28T12:23:59.277Z"
   },
   {
    "duration": 0,
    "start_time": "2022-05-28T12:23:59.278Z"
   },
   {
    "duration": 0,
    "start_time": "2022-05-28T12:23:59.279Z"
   },
   {
    "duration": 0,
    "start_time": "2022-05-28T12:23:59.280Z"
   },
   {
    "duration": 0,
    "start_time": "2022-05-28T12:23:59.282Z"
   },
   {
    "duration": 0,
    "start_time": "2022-05-28T12:23:59.283Z"
   },
   {
    "duration": 0,
    "start_time": "2022-05-28T12:23:59.284Z"
   },
   {
    "duration": 0,
    "start_time": "2022-05-28T12:23:59.286Z"
   },
   {
    "duration": 0,
    "start_time": "2022-05-28T12:23:59.287Z"
   },
   {
    "duration": 0,
    "start_time": "2022-05-28T12:23:59.288Z"
   },
   {
    "duration": 0,
    "start_time": "2022-05-28T12:23:59.290Z"
   },
   {
    "duration": 0,
    "start_time": "2022-05-28T12:23:59.291Z"
   },
   {
    "duration": 0,
    "start_time": "2022-05-28T12:23:59.293Z"
   },
   {
    "duration": 0,
    "start_time": "2022-05-28T12:23:59.294Z"
   },
   {
    "duration": 1906,
    "start_time": "2022-05-28T12:31:14.682Z"
   },
   {
    "duration": 3151,
    "start_time": "2022-05-28T12:31:16.590Z"
   },
   {
    "duration": 494,
    "start_time": "2022-05-28T12:31:19.743Z"
   },
   {
    "duration": 1805,
    "start_time": "2022-05-28T12:31:20.239Z"
   },
   {
    "duration": 91591,
    "start_time": "2022-05-28T12:31:22.046Z"
   },
   {
    "duration": 5,
    "start_time": "2022-05-28T12:32:53.639Z"
   },
   {
    "duration": 1870,
    "start_time": "2022-05-28T12:34:18.577Z"
   },
   {
    "duration": 3153,
    "start_time": "2022-05-28T12:34:20.449Z"
   },
   {
    "duration": 513,
    "start_time": "2022-05-28T12:34:23.604Z"
   },
   {
    "duration": 1834,
    "start_time": "2022-05-28T12:34:24.119Z"
   },
   {
    "duration": 102442,
    "start_time": "2022-05-28T12:34:25.961Z"
   },
   {
    "duration": 5,
    "start_time": "2022-05-28T12:36:08.405Z"
   },
   {
    "duration": 19,
    "start_time": "2022-05-28T12:36:08.411Z"
   },
   {
    "duration": 29,
    "start_time": "2022-05-28T12:36:08.432Z"
   },
   {
    "duration": 127,
    "start_time": "2022-05-28T12:36:08.463Z"
   },
   {
    "duration": 0,
    "start_time": "2022-05-28T12:36:08.592Z"
   },
   {
    "duration": 0,
    "start_time": "2022-05-28T12:36:08.593Z"
   },
   {
    "duration": 0,
    "start_time": "2022-05-28T12:36:08.594Z"
   },
   {
    "duration": 0,
    "start_time": "2022-05-28T12:36:08.595Z"
   },
   {
    "duration": 0,
    "start_time": "2022-05-28T12:36:08.596Z"
   },
   {
    "duration": 0,
    "start_time": "2022-05-28T12:36:08.597Z"
   },
   {
    "duration": 0,
    "start_time": "2022-05-28T12:36:08.598Z"
   },
   {
    "duration": 0,
    "start_time": "2022-05-28T12:36:08.599Z"
   },
   {
    "duration": 0,
    "start_time": "2022-05-28T12:36:08.600Z"
   },
   {
    "duration": 0,
    "start_time": "2022-05-28T12:36:08.601Z"
   },
   {
    "duration": 0,
    "start_time": "2022-05-28T12:36:08.602Z"
   },
   {
    "duration": 0,
    "start_time": "2022-05-28T12:36:08.603Z"
   },
   {
    "duration": 1,
    "start_time": "2022-05-28T12:36:08.604Z"
   },
   {
    "duration": 3,
    "start_time": "2022-05-28T12:36:15.781Z"
   },
   {
    "duration": 10,
    "start_time": "2022-05-28T12:36:18.620Z"
   },
   {
    "duration": 4,
    "start_time": "2022-05-28T12:36:28.668Z"
   },
   {
    "duration": 10,
    "start_time": "2022-05-28T12:36:31.500Z"
   },
   {
    "duration": 23,
    "start_time": "2022-05-28T12:36:59.197Z"
   },
   {
    "duration": 91,
    "start_time": "2022-05-28T12:37:07.708Z"
   },
   {
    "duration": 6,
    "start_time": "2022-05-28T12:38:16.578Z"
   },
   {
    "duration": 53,
    "start_time": "2022-05-28T12:39:04.117Z"
   },
   {
    "duration": 7,
    "start_time": "2022-05-28T12:41:24.255Z"
   },
   {
    "duration": 2210,
    "start_time": "2022-05-28T12:43:20.413Z"
   },
   {
    "duration": 3257,
    "start_time": "2022-05-28T12:43:22.626Z"
   },
   {
    "duration": 700,
    "start_time": "2022-05-28T12:43:25.885Z"
   },
   {
    "duration": 2616,
    "start_time": "2022-05-28T12:43:26.588Z"
   },
   {
    "duration": 3584,
    "start_time": "2022-05-28T12:44:17.970Z"
   },
   {
    "duration": 3330,
    "start_time": "2022-05-28T12:44:21.556Z"
   },
   {
    "duration": 683,
    "start_time": "2022-05-28T12:44:24.889Z"
   },
   {
    "duration": 1987,
    "start_time": "2022-05-28T12:44:25.574Z"
   },
   {
    "duration": 72401,
    "start_time": "2022-05-28T12:44:27.563Z"
   },
   {
    "duration": 0,
    "start_time": "2022-05-28T12:45:39.966Z"
   },
   {
    "duration": 0,
    "start_time": "2022-05-28T12:45:39.967Z"
   },
   {
    "duration": 0,
    "start_time": "2022-05-28T12:45:39.968Z"
   },
   {
    "duration": 0,
    "start_time": "2022-05-28T12:45:39.969Z"
   },
   {
    "duration": 0,
    "start_time": "2022-05-28T12:45:39.971Z"
   },
   {
    "duration": 0,
    "start_time": "2022-05-28T12:45:39.972Z"
   },
   {
    "duration": 0,
    "start_time": "2022-05-28T12:45:39.972Z"
   },
   {
    "duration": 0,
    "start_time": "2022-05-28T12:45:39.973Z"
   },
   {
    "duration": 0,
    "start_time": "2022-05-28T12:45:39.975Z"
   },
   {
    "duration": 0,
    "start_time": "2022-05-28T12:45:39.975Z"
   },
   {
    "duration": 0,
    "start_time": "2022-05-28T12:45:39.976Z"
   },
   {
    "duration": 0,
    "start_time": "2022-05-28T12:45:39.978Z"
   },
   {
    "duration": 0,
    "start_time": "2022-05-28T12:45:39.980Z"
   },
   {
    "duration": 0,
    "start_time": "2022-05-28T12:45:39.981Z"
   },
   {
    "duration": 0,
    "start_time": "2022-05-28T12:45:39.982Z"
   },
   {
    "duration": 0,
    "start_time": "2022-05-28T12:45:39.983Z"
   },
   {
    "duration": 2900,
    "start_time": "2022-05-28T12:47:10.235Z"
   },
   {
    "duration": 3044,
    "start_time": "2022-05-28T12:47:13.136Z"
   },
   {
    "duration": 512,
    "start_time": "2022-05-28T12:47:16.181Z"
   },
   {
    "duration": 1897,
    "start_time": "2022-05-28T12:47:16.694Z"
   },
   {
    "duration": 91247,
    "start_time": "2022-05-28T12:47:18.593Z"
   },
   {
    "duration": 7,
    "start_time": "2022-05-28T12:48:49.843Z"
   },
   {
    "duration": 31,
    "start_time": "2022-05-28T12:48:49.860Z"
   },
   {
    "duration": 24,
    "start_time": "2022-05-28T12:48:49.892Z"
   },
   {
    "duration": 4,
    "start_time": "2022-05-28T12:48:49.918Z"
   },
   {
    "duration": 162,
    "start_time": "2022-05-28T12:48:49.924Z"
   },
   {
    "duration": 0,
    "start_time": "2022-05-28T12:48:50.087Z"
   },
   {
    "duration": 0,
    "start_time": "2022-05-28T12:48:50.089Z"
   },
   {
    "duration": 0,
    "start_time": "2022-05-28T12:48:50.090Z"
   },
   {
    "duration": 1,
    "start_time": "2022-05-28T12:48:50.091Z"
   },
   {
    "duration": 0,
    "start_time": "2022-05-28T12:48:50.093Z"
   },
   {
    "duration": 0,
    "start_time": "2022-05-28T12:48:50.094Z"
   },
   {
    "duration": 0,
    "start_time": "2022-05-28T12:48:50.095Z"
   },
   {
    "duration": 0,
    "start_time": "2022-05-28T12:48:50.097Z"
   },
   {
    "duration": 0,
    "start_time": "2022-05-28T12:48:50.098Z"
   },
   {
    "duration": 0,
    "start_time": "2022-05-28T12:48:50.099Z"
   },
   {
    "duration": 0,
    "start_time": "2022-05-28T12:48:50.101Z"
   },
   {
    "duration": 48,
    "start_time": "2022-05-28T12:49:13.823Z"
   },
   {
    "duration": 7,
    "start_time": "2022-05-28T12:49:37.645Z"
   },
   {
    "duration": 5,
    "start_time": "2022-05-28T12:50:58.007Z"
   },
   {
    "duration": 4,
    "start_time": "2022-05-28T12:51:35.784Z"
   },
   {
    "duration": 8,
    "start_time": "2022-05-28T12:53:07.662Z"
   },
   {
    "duration": 4,
    "start_time": "2022-05-28T12:53:21.156Z"
   },
   {
    "duration": 19,
    "start_time": "2022-05-28T12:55:04.106Z"
   },
   {
    "duration": 16,
    "start_time": "2022-05-28T12:55:18.314Z"
   },
   {
    "duration": 28,
    "start_time": "2022-05-28T12:55:29.385Z"
   },
   {
    "duration": 717,
    "start_time": "2022-05-28T12:55:29.968Z"
   },
   {
    "duration": 8,
    "start_time": "2022-05-28T12:55:33.410Z"
   },
   {
    "duration": 3,
    "start_time": "2022-05-28T12:55:43.073Z"
   },
   {
    "duration": 762458,
    "start_time": "2022-05-28T12:55:43.824Z"
   },
   {
    "duration": 2651,
    "start_time": "2022-05-28T13:08:37.055Z"
   },
   {
    "duration": 3192,
    "start_time": "2022-05-28T13:08:39.708Z"
   },
   {
    "duration": 600,
    "start_time": "2022-05-28T13:08:42.903Z"
   },
   {
    "duration": 2063,
    "start_time": "2022-05-28T13:08:43.505Z"
   },
   {
    "duration": 100164,
    "start_time": "2022-05-28T13:08:45.571Z"
   },
   {
    "duration": 9,
    "start_time": "2022-05-28T13:10:25.737Z"
   },
   {
    "duration": 54,
    "start_time": "2022-05-28T13:10:25.748Z"
   },
   {
    "duration": 821,
    "start_time": "2022-05-28T13:10:25.803Z"
   },
   {
    "duration": 9,
    "start_time": "2022-05-28T13:10:26.626Z"
   },
   {
    "duration": 4,
    "start_time": "2022-05-28T13:10:26.638Z"
   },
   {
    "duration": 160,
    "start_time": "2022-05-28T13:10:26.644Z"
   },
   {
    "duration": 0,
    "start_time": "2022-05-28T13:10:26.806Z"
   },
   {
    "duration": 0,
    "start_time": "2022-05-28T13:10:26.807Z"
   },
   {
    "duration": 0,
    "start_time": "2022-05-28T13:10:26.809Z"
   },
   {
    "duration": 0,
    "start_time": "2022-05-28T13:10:26.810Z"
   },
   {
    "duration": 0,
    "start_time": "2022-05-28T13:10:26.812Z"
   },
   {
    "duration": 0,
    "start_time": "2022-05-28T13:10:26.813Z"
   },
   {
    "duration": 0,
    "start_time": "2022-05-28T13:10:26.814Z"
   },
   {
    "duration": 3,
    "start_time": "2022-05-28T13:18:02.558Z"
   },
   {
    "duration": 51,
    "start_time": "2022-05-28T13:52:04.580Z"
   },
   {
    "duration": 2245,
    "start_time": "2022-05-28T13:52:13.548Z"
   },
   {
    "duration": 3107,
    "start_time": "2022-05-28T13:52:15.795Z"
   },
   {
    "duration": 513,
    "start_time": "2022-05-28T13:52:18.904Z"
   },
   {
    "duration": 1835,
    "start_time": "2022-05-28T13:52:19.418Z"
   },
   {
    "duration": 91559,
    "start_time": "2022-05-28T13:52:21.258Z"
   },
   {
    "duration": 8,
    "start_time": "2022-05-28T13:53:52.819Z"
   },
   {
    "duration": 38,
    "start_time": "2022-05-28T13:53:52.829Z"
   },
   {
    "duration": 776,
    "start_time": "2022-05-28T13:53:52.868Z"
   },
   {
    "duration": 7,
    "start_time": "2022-05-28T13:53:53.646Z"
   },
   {
    "duration": 5,
    "start_time": "2022-05-28T13:53:53.655Z"
   },
   {
    "duration": 5,
    "start_time": "2022-05-28T13:53:53.662Z"
   },
   {
    "duration": 114511,
    "start_time": "2022-05-28T13:53:53.668Z"
   },
   {
    "duration": 0,
    "start_time": "2022-05-28T13:55:48.181Z"
   },
   {
    "duration": 0,
    "start_time": "2022-05-28T13:55:48.182Z"
   },
   {
    "duration": 0,
    "start_time": "2022-05-28T13:55:48.183Z"
   },
   {
    "duration": 0,
    "start_time": "2022-05-28T13:55:48.184Z"
   },
   {
    "duration": 0,
    "start_time": "2022-05-28T13:55:48.185Z"
   },
   {
    "duration": 41,
    "start_time": "2022-05-28T13:55:52.075Z"
   },
   {
    "duration": 62,
    "start_time": "2022-05-28T13:57:10.819Z"
   },
   {
    "duration": 2447554,
    "start_time": "2022-05-28T13:57:16.343Z"
   },
   {
    "duration": 10775,
    "start_time": "2022-05-28T14:38:03.899Z"
   },
   {
    "duration": 44,
    "start_time": "2022-05-28T14:38:14.676Z"
   },
   {
    "duration": 0,
    "start_time": "2022-05-28T14:38:14.721Z"
   },
   {
    "duration": 13,
    "start_time": "2022-05-28T14:38:30.781Z"
   },
   {
    "duration": 51,
    "start_time": "2022-05-28T14:39:10.957Z"
   },
   {
    "duration": 38,
    "start_time": "2022-05-28T14:39:42.306Z"
   },
   {
    "duration": 42,
    "start_time": "2022-05-28T14:40:00.841Z"
   },
   {
    "duration": 193,
    "start_time": "2022-05-28T14:40:24.699Z"
   },
   {
    "duration": 10,
    "start_time": "2022-05-28T14:41:17.478Z"
   },
   {
    "duration": 10,
    "start_time": "2022-05-28T14:41:28.308Z"
   },
   {
    "duration": 10,
    "start_time": "2022-05-28T14:41:32.724Z"
   },
   {
    "duration": 11,
    "start_time": "2022-05-28T14:41:41.605Z"
   },
   {
    "duration": 10,
    "start_time": "2022-05-28T14:41:54.077Z"
   },
   {
    "duration": 10,
    "start_time": "2022-05-28T14:45:03.969Z"
   },
   {
    "duration": 7,
    "start_time": "2022-05-28T14:46:05.314Z"
   },
   {
    "duration": 5,
    "start_time": "2022-05-28T14:46:11.889Z"
   },
   {
    "duration": 12,
    "start_time": "2022-05-28T14:46:24.303Z"
   },
   {
    "duration": 5,
    "start_time": "2022-05-28T14:46:40.964Z"
   },
   {
    "duration": 11,
    "start_time": "2022-05-28T14:47:18.806Z"
   },
   {
    "duration": 36,
    "start_time": "2022-05-28T14:49:00.352Z"
   },
   {
    "duration": 10,
    "start_time": "2022-05-28T14:49:14.266Z"
   },
   {
    "duration": 3,
    "start_time": "2022-05-28T14:49:46.749Z"
   },
   {
    "duration": 3581753,
    "start_time": "2022-05-28T14:49:48.942Z"
   },
   {
    "duration": 6782834,
    "start_time": "2022-05-28T15:49:30.697Z"
   },
   {
    "duration": 16,
    "start_time": "2022-05-28T17:42:33.533Z"
   },
   {
    "duration": 10,
    "start_time": "2022-05-28T17:46:13.619Z"
   },
   {
    "duration": 207580,
    "start_time": "2022-05-28T17:46:33.392Z"
   },
   {
    "duration": 9,
    "start_time": "2022-05-28T18:23:55.168Z"
   },
   {
    "duration": 9,
    "start_time": "2022-05-28T18:24:01.742Z"
   },
   {
    "duration": 9,
    "start_time": "2022-05-28T18:24:34.813Z"
   },
   {
    "duration": 9,
    "start_time": "2022-05-28T18:24:40.829Z"
   },
   {
    "duration": 14,
    "start_time": "2022-05-28T18:24:51.156Z"
   },
   {
    "duration": 12,
    "start_time": "2022-05-28T18:29:31.230Z"
   },
   {
    "duration": 28,
    "start_time": "2022-05-28T18:34:09.632Z"
   },
   {
    "duration": 17,
    "start_time": "2022-05-28T18:34:21.095Z"
   },
   {
    "duration": 14,
    "start_time": "2022-05-28T18:34:48.460Z"
   },
   {
    "duration": 1393781,
    "start_time": "2022-05-28T18:35:00.314Z"
   },
   {
    "duration": 3,
    "start_time": "2022-05-28T19:06:10.557Z"
   },
   {
    "duration": 39,
    "start_time": "2022-05-28T19:06:12.757Z"
   },
   {
    "duration": 37,
    "start_time": "2022-05-28T19:06:39.002Z"
   },
   {
    "duration": 24,
    "start_time": "2022-05-28T19:06:58.010Z"
   },
   {
    "duration": 52,
    "start_time": "2022-05-28T19:07:04.218Z"
   },
   {
    "duration": 35,
    "start_time": "2022-05-28T19:07:28.723Z"
   },
   {
    "duration": 46,
    "start_time": "2022-05-28T19:09:12.903Z"
   },
   {
    "duration": 35,
    "start_time": "2022-05-28T19:09:29.012Z"
   },
   {
    "duration": 2,
    "start_time": "2022-05-28T19:10:49.373Z"
   },
   {
    "duration": 58,
    "start_time": "2022-05-28T19:11:05.604Z"
   },
   {
    "duration": 3,
    "start_time": "2022-05-28T19:12:37.793Z"
   },
   {
    "duration": 43,
    "start_time": "2022-05-28T19:12:43.775Z"
   },
   {
    "duration": 36,
    "start_time": "2022-05-28T19:13:00.928Z"
   },
   {
    "duration": 42,
    "start_time": "2022-05-28T19:13:07.244Z"
   },
   {
    "duration": 37,
    "start_time": "2022-05-28T19:16:51.109Z"
   },
   {
    "duration": 3,
    "start_time": "2022-05-28T19:17:27.110Z"
   },
   {
    "duration": 116361,
    "start_time": "2022-05-28T19:17:55.111Z"
   },
   {
    "duration": 51989,
    "start_time": "2022-05-28T19:19:51.474Z"
   },
   {
    "duration": 3,
    "start_time": "2022-05-28T19:20:43.465Z"
   },
   {
    "duration": 42,
    "start_time": "2022-05-28T19:20:43.470Z"
   },
   {
    "duration": 8,
    "start_time": "2022-05-28T19:20:43.514Z"
   },
   {
    "duration": 4,
    "start_time": "2022-05-28T19:28:07.710Z"
   },
   {
    "duration": 38,
    "start_time": "2022-05-28T19:28:09.911Z"
   },
   {
    "duration": 1118,
    "start_time": "2022-05-28T19:29:38.287Z"
   },
   {
    "duration": 43,
    "start_time": "2022-05-28T19:29:58.248Z"
   },
   {
    "duration": 1191,
    "start_time": "2022-05-28T19:30:31.665Z"
   },
   {
    "duration": 12,
    "start_time": "2022-05-28T19:30:37.883Z"
   },
   {
    "duration": 82,
    "start_time": "2022-05-28T19:35:04.258Z"
   },
   {
    "duration": 1181,
    "start_time": "2022-05-28T19:35:13.674Z"
   },
   {
    "duration": 9,
    "start_time": "2022-05-28T19:36:05.988Z"
   },
   {
    "duration": 13,
    "start_time": "2022-05-28T19:36:30.453Z"
   },
   {
    "duration": 5,
    "start_time": "2022-05-28T19:39:41.077Z"
   },
   {
    "duration": 22,
    "start_time": "2022-05-28T19:41:21.096Z"
   },
   {
    "duration": 38,
    "start_time": "2022-05-28T19:42:29.346Z"
   },
   {
    "duration": 36,
    "start_time": "2022-05-28T19:42:38.216Z"
   },
   {
    "duration": 9080,
    "start_time": "2022-05-28T19:47:50.989Z"
   },
   {
    "duration": 11,
    "start_time": "2022-05-28T19:48:03.787Z"
   },
   {
    "duration": 9,
    "start_time": "2022-05-28T19:48:33.201Z"
   },
   {
    "duration": 12,
    "start_time": "2022-05-28T19:48:39.954Z"
   },
   {
    "duration": 20,
    "start_time": "2022-05-28T19:49:16.189Z"
   },
   {
    "duration": 16,
    "start_time": "2022-05-28T19:49:25.762Z"
   },
   {
    "duration": 12,
    "start_time": "2022-05-28T19:49:35.188Z"
   },
   {
    "duration": 15,
    "start_time": "2022-05-28T19:59:33.297Z"
   },
   {
    "duration": 16,
    "start_time": "2022-05-28T19:59:59.549Z"
   },
   {
    "duration": 2343,
    "start_time": "2022-05-28T20:00:29.706Z"
   },
   {
    "duration": 1708,
    "start_time": "2022-05-28T20:00:32.051Z"
   },
   {
    "duration": 507,
    "start_time": "2022-05-28T20:00:33.760Z"
   },
   {
    "duration": 1961,
    "start_time": "2022-05-28T20:00:34.269Z"
   },
   {
    "duration": 79903,
    "start_time": "2022-05-28T20:00:36.232Z"
   },
   {
    "duration": 7,
    "start_time": "2022-05-28T20:01:56.137Z"
   },
   {
    "duration": 39,
    "start_time": "2022-05-28T20:01:56.145Z"
   },
   {
    "duration": 680,
    "start_time": "2022-05-28T20:01:56.186Z"
   },
   {
    "duration": 5,
    "start_time": "2022-05-28T20:01:56.868Z"
   },
   {
    "duration": 5,
    "start_time": "2022-05-28T20:01:56.875Z"
   },
   {
    "duration": 6,
    "start_time": "2022-05-28T20:01:56.881Z"
   },
   {
    "duration": 110268,
    "start_time": "2022-05-28T20:01:56.888Z"
   },
   {
    "duration": 49358,
    "start_time": "2022-05-28T20:03:47.157Z"
   },
   {
    "duration": 2,
    "start_time": "2022-05-28T20:04:36.518Z"
   },
   {
    "duration": 1090,
    "start_time": "2022-05-28T20:04:36.521Z"
   },
   {
    "duration": 55,
    "start_time": "2022-05-28T20:10:17.700Z"
   },
   {
    "duration": 7,
    "start_time": "2022-05-28T20:10:37.677Z"
   },
   {
    "duration": 6,
    "start_time": "2022-05-28T20:11:00.422Z"
   },
   {
    "duration": 44,
    "start_time": "2022-05-28T20:12:08.710Z"
   },
   {
    "duration": 6,
    "start_time": "2022-05-28T20:12:13.077Z"
   },
   {
    "duration": 2474,
    "start_time": "2022-05-28T20:12:26.814Z"
   },
   {
    "duration": 3102,
    "start_time": "2022-05-28T20:12:29.290Z"
   },
   {
    "duration": 555,
    "start_time": "2022-05-28T20:12:32.394Z"
   },
   {
    "duration": 2012,
    "start_time": "2022-05-28T20:12:32.951Z"
   },
   {
    "duration": 83645,
    "start_time": "2022-05-28T20:12:34.966Z"
   },
   {
    "duration": 7,
    "start_time": "2022-05-28T20:13:58.613Z"
   },
   {
    "duration": 26,
    "start_time": "2022-05-28T20:13:58.621Z"
   },
   {
    "duration": 719,
    "start_time": "2022-05-28T20:13:58.660Z"
   },
   {
    "duration": 7,
    "start_time": "2022-05-28T20:13:59.380Z"
   },
   {
    "duration": 3,
    "start_time": "2022-05-28T20:13:59.389Z"
   },
   {
    "duration": 6,
    "start_time": "2022-05-28T20:13:59.394Z"
   },
   {
    "duration": 115104,
    "start_time": "2022-05-28T20:13:59.401Z"
   },
   {
    "duration": 51427,
    "start_time": "2022-05-28T20:15:54.506Z"
   },
   {
    "duration": 3,
    "start_time": "2022-05-28T20:16:45.935Z"
   },
   {
    "duration": 1203,
    "start_time": "2022-05-28T20:16:45.939Z"
   },
   {
    "duration": 1238,
    "start_time": "2022-05-28T20:16:47.144Z"
   },
   {
    "duration": 164,
    "start_time": "2022-05-28T20:16:48.383Z"
   },
   {
    "duration": 0,
    "start_time": "2022-05-28T20:16:48.549Z"
   },
   {
    "duration": 0,
    "start_time": "2022-05-28T20:16:48.550Z"
   },
   {
    "duration": 1,
    "start_time": "2022-05-28T20:16:48.550Z"
   },
   {
    "duration": 0,
    "start_time": "2022-05-28T20:16:48.552Z"
   },
   {
    "duration": 0,
    "start_time": "2022-05-28T20:16:48.553Z"
   },
   {
    "duration": 16,
    "start_time": "2022-05-28T20:21:01.425Z"
   },
   {
    "duration": 184878,
    "start_time": "2022-05-28T20:21:31.689Z"
   },
   {
    "duration": 4,
    "start_time": "2022-05-28T20:24:36.570Z"
   },
   {
    "duration": 9388,
    "start_time": "2022-05-28T20:24:36.575Z"
   },
   {
    "duration": 20,
    "start_time": "2022-05-28T20:24:45.965Z"
   },
   {
    "duration": 0,
    "start_time": "2022-05-28T20:24:45.988Z"
   },
   {
    "duration": 10,
    "start_time": "2022-05-28T20:33:31.714Z"
   },
   {
    "duration": 64420,
    "start_time": "2022-05-28T20:33:54.433Z"
   },
   {
    "duration": 157403,
    "start_time": "2022-05-28T20:35:09.145Z"
   },
   {
    "duration": 11,
    "start_time": "2022-05-28T20:37:59.760Z"
   },
   {
    "duration": 148965,
    "start_time": "2022-05-28T20:39:11.040Z"
   },
   {
    "duration": 15,
    "start_time": "2022-05-28T20:41:40.006Z"
   },
   {
    "duration": 15,
    "start_time": "2022-05-28T20:42:18.409Z"
   },
   {
    "duration": 9,
    "start_time": "2022-05-28T20:48:16.586Z"
   },
   {
    "duration": 9,
    "start_time": "2022-05-28T20:48:26.412Z"
   },
   {
    "duration": 14,
    "start_time": "2022-05-28T21:02:08.437Z"
   },
   {
    "duration": 2145,
    "start_time": "2022-05-28T21:02:22.340Z"
   },
   {
    "duration": 2006,
    "start_time": "2022-05-28T21:02:24.487Z"
   },
   {
    "duration": 466,
    "start_time": "2022-05-28T21:02:26.494Z"
   },
   {
    "duration": 1942,
    "start_time": "2022-05-28T21:02:26.961Z"
   },
   {
    "duration": 80206,
    "start_time": "2022-05-28T21:02:28.905Z"
   },
   {
    "duration": 7,
    "start_time": "2022-05-28T21:03:49.112Z"
   },
   {
    "duration": 31,
    "start_time": "2022-05-28T21:03:49.121Z"
   },
   {
    "duration": 844,
    "start_time": "2022-05-28T21:03:49.153Z"
   },
   {
    "duration": 0,
    "start_time": "2022-05-28T21:03:49.999Z"
   },
   {
    "duration": 0,
    "start_time": "2022-05-28T21:03:50.000Z"
   },
   {
    "duration": 0,
    "start_time": "2022-05-28T21:03:50.001Z"
   },
   {
    "duration": 0,
    "start_time": "2022-05-28T21:03:50.001Z"
   },
   {
    "duration": 0,
    "start_time": "2022-05-28T21:03:50.002Z"
   },
   {
    "duration": 0,
    "start_time": "2022-05-28T21:03:50.003Z"
   },
   {
    "duration": 0,
    "start_time": "2022-05-28T21:03:50.004Z"
   },
   {
    "duration": 0,
    "start_time": "2022-05-28T21:03:50.005Z"
   },
   {
    "duration": 0,
    "start_time": "2022-05-28T21:03:50.006Z"
   },
   {
    "duration": 0,
    "start_time": "2022-05-28T21:03:50.006Z"
   },
   {
    "duration": 0,
    "start_time": "2022-05-28T21:03:50.007Z"
   },
   {
    "duration": 0,
    "start_time": "2022-05-28T21:03:50.008Z"
   },
   {
    "duration": 0,
    "start_time": "2022-05-28T21:03:50.009Z"
   },
   {
    "duration": 0,
    "start_time": "2022-05-28T21:03:50.010Z"
   },
   {
    "duration": 0,
    "start_time": "2022-05-28T21:03:50.011Z"
   },
   {
    "duration": 0,
    "start_time": "2022-05-28T21:03:50.012Z"
   },
   {
    "duration": 11,
    "start_time": "2022-05-28T21:05:02.402Z"
   },
   {
    "duration": 2155,
    "start_time": "2022-05-28T21:05:28.627Z"
   },
   {
    "duration": 1106,
    "start_time": "2022-05-28T21:05:30.784Z"
   },
   {
    "duration": 503,
    "start_time": "2022-05-28T21:05:31.892Z"
   },
   {
    "duration": 1945,
    "start_time": "2022-05-28T21:05:32.396Z"
   },
   {
    "duration": 79306,
    "start_time": "2022-05-28T21:05:34.343Z"
   },
   {
    "duration": 14,
    "start_time": "2022-05-28T21:06:53.650Z"
   },
   {
    "duration": 33,
    "start_time": "2022-05-28T21:06:53.665Z"
   },
   {
    "duration": 1135,
    "start_time": "2022-05-28T21:06:53.699Z"
   },
   {
    "duration": 5,
    "start_time": "2022-05-28T21:06:54.836Z"
   },
   {
    "duration": 3,
    "start_time": "2022-05-28T21:06:54.842Z"
   },
   {
    "duration": 66113,
    "start_time": "2022-05-28T21:06:54.846Z"
   },
   {
    "duration": 161462,
    "start_time": "2022-05-28T21:08:00.961Z"
   },
   {
    "duration": 122,
    "start_time": "2022-05-28T21:10:42.424Z"
   },
   {
    "duration": 0,
    "start_time": "2022-05-28T21:10:42.548Z"
   },
   {
    "duration": 0,
    "start_time": "2022-05-28T21:10:42.549Z"
   },
   {
    "duration": 0,
    "start_time": "2022-05-28T21:10:42.550Z"
   },
   {
    "duration": 0,
    "start_time": "2022-05-28T21:10:42.551Z"
   },
   {
    "duration": 0,
    "start_time": "2022-05-28T21:10:42.551Z"
   },
   {
    "duration": 0,
    "start_time": "2022-05-28T21:10:42.559Z"
   },
   {
    "duration": 0,
    "start_time": "2022-05-28T21:10:42.560Z"
   },
   {
    "duration": 0,
    "start_time": "2022-05-28T21:10:42.561Z"
   },
   {
    "duration": 0,
    "start_time": "2022-05-28T21:10:42.562Z"
   },
   {
    "duration": 0,
    "start_time": "2022-05-28T21:10:42.563Z"
   },
   {
    "duration": 0,
    "start_time": "2022-05-28T21:10:42.564Z"
   },
   {
    "duration": 20,
    "start_time": "2022-05-28T21:13:20.846Z"
   },
   {
    "duration": 1995,
    "start_time": "2022-05-29T06:56:55.056Z"
   },
   {
    "duration": 3295,
    "start_time": "2022-05-29T06:56:57.053Z"
   },
   {
    "duration": 584,
    "start_time": "2022-05-29T06:57:00.349Z"
   },
   {
    "duration": 2054,
    "start_time": "2022-05-29T06:57:00.935Z"
   },
   {
    "duration": 99357,
    "start_time": "2022-05-29T06:57:02.991Z"
   },
   {
    "duration": 6,
    "start_time": "2022-05-29T06:58:42.350Z"
   },
   {
    "duration": 56,
    "start_time": "2022-05-29T06:58:42.358Z"
   },
   {
    "duration": 1488,
    "start_time": "2022-05-29T06:58:42.416Z"
   },
   {
    "duration": 6,
    "start_time": "2022-05-29T06:58:43.906Z"
   },
   {
    "duration": 3,
    "start_time": "2022-05-29T06:58:43.914Z"
   },
   {
    "duration": 81272,
    "start_time": "2022-05-29T06:58:43.919Z"
   },
   {
    "duration": 147,
    "start_time": "2022-05-29T07:00:05.193Z"
   },
   {
    "duration": 0,
    "start_time": "2022-05-29T07:00:05.342Z"
   },
   {
    "duration": 0,
    "start_time": "2022-05-29T07:00:05.344Z"
   },
   {
    "duration": 0,
    "start_time": "2022-05-29T07:00:05.345Z"
   },
   {
    "duration": 0,
    "start_time": "2022-05-29T07:00:05.347Z"
   },
   {
    "duration": 0,
    "start_time": "2022-05-29T07:00:05.348Z"
   },
   {
    "duration": 0,
    "start_time": "2022-05-29T07:00:05.350Z"
   },
   {
    "duration": 0,
    "start_time": "2022-05-29T07:00:05.351Z"
   },
   {
    "duration": 0,
    "start_time": "2022-05-29T07:00:05.352Z"
   },
   {
    "duration": 0,
    "start_time": "2022-05-29T07:00:05.353Z"
   },
   {
    "duration": 0,
    "start_time": "2022-05-29T07:00:05.354Z"
   },
   {
    "duration": 0,
    "start_time": "2022-05-29T07:00:05.355Z"
   },
   {
    "duration": 0,
    "start_time": "2022-05-29T07:00:05.356Z"
   },
   {
    "duration": 21,
    "start_time": "2022-05-29T07:01:51.768Z"
   },
   {
    "duration": 189817,
    "start_time": "2022-05-29T07:02:09.001Z"
   },
   {
    "duration": 16,
    "start_time": "2022-05-29T07:05:18.820Z"
   },
   {
    "duration": 0,
    "start_time": "2022-05-29T07:05:18.838Z"
   },
   {
    "duration": 0,
    "start_time": "2022-05-29T07:05:18.840Z"
   },
   {
    "duration": 0,
    "start_time": "2022-05-29T07:05:18.842Z"
   },
   {
    "duration": 3,
    "start_time": "2022-05-29T07:05:28.901Z"
   },
   {
    "duration": 93857,
    "start_time": "2022-05-29T07:05:30.609Z"
   },
   {
    "duration": 0,
    "start_time": "2022-05-29T07:07:04.468Z"
   },
   {
    "duration": 0,
    "start_time": "2022-05-29T07:07:04.469Z"
   },
   {
    "duration": 0,
    "start_time": "2022-05-29T07:07:04.470Z"
   },
   {
    "duration": 0,
    "start_time": "2022-05-29T07:07:04.471Z"
   },
   {
    "duration": 60833,
    "start_time": "2022-05-29T07:07:15.238Z"
   },
   {
    "duration": 6,
    "start_time": "2022-05-29T07:08:16.078Z"
   },
   {
    "duration": 1243,
    "start_time": "2022-05-29T07:08:16.085Z"
   },
   {
    "duration": 14,
    "start_time": "2022-05-29T07:08:17.330Z"
   },
   {
    "duration": 4,
    "start_time": "2022-05-29T07:09:12.706Z"
   },
   {
    "duration": 9,
    "start_time": "2022-05-29T07:09:24.380Z"
   },
   {
    "duration": 13968,
    "start_time": "2022-05-29T07:09:58.910Z"
   },
   {
    "duration": 9331,
    "start_time": "2022-05-29T07:10:12.882Z"
   },
   {
    "duration": 74,
    "start_time": "2022-05-29T07:10:22.218Z"
   },
   {
    "duration": 9,
    "start_time": "2022-05-29T07:12:21.420Z"
   },
   {
    "duration": 4,
    "start_time": "2022-05-29T07:12:37.649Z"
   },
   {
    "duration": 27,
    "start_time": "2022-05-29T07:13:24.796Z"
   },
   {
    "duration": 123439,
    "start_time": "2022-05-29T07:15:30.354Z"
   },
   {
    "duration": 165,
    "start_time": "2022-05-29T07:20:04.060Z"
   },
   {
    "duration": 3056,
    "start_time": "2022-05-29T07:20:23.721Z"
   },
   {
    "duration": 21,
    "start_time": "2022-05-29T07:20:30.123Z"
   },
   {
    "duration": 1237,
    "start_time": "2022-05-29T07:22:21.054Z"
   },
   {
    "duration": 15,
    "start_time": "2022-05-29T07:22:37.758Z"
   },
   {
    "duration": 222095,
    "start_time": "2022-05-29T07:24:51.011Z"
   },
   {
    "duration": 10681,
    "start_time": "2022-05-29T07:28:33.114Z"
   },
   {
    "duration": 101,
    "start_time": "2022-05-29T07:28:43.801Z"
   },
   {
    "duration": 1771,
    "start_time": "2022-05-29T07:31:56.226Z"
   },
   {
    "duration": 3428,
    "start_time": "2022-05-29T07:31:57.998Z"
   },
   {
    "duration": 577,
    "start_time": "2022-05-29T07:32:01.427Z"
   },
   {
    "duration": 2042,
    "start_time": "2022-05-29T07:32:02.006Z"
   },
   {
    "duration": 100095,
    "start_time": "2022-05-29T07:32:04.049Z"
   },
   {
    "duration": 6,
    "start_time": "2022-05-29T07:33:44.146Z"
   },
   {
    "duration": 54,
    "start_time": "2022-05-29T07:33:44.154Z"
   },
   {
    "duration": 6951,
    "start_time": "2022-05-29T07:33:44.210Z"
   },
   {
    "duration": 6,
    "start_time": "2022-05-29T07:33:51.163Z"
   },
   {
    "duration": 4,
    "start_time": "2022-05-29T07:33:51.176Z"
   },
   {
    "duration": 16,
    "start_time": "2022-05-29T07:33:51.181Z"
   },
   {
    "duration": 17693,
    "start_time": "2022-05-29T07:33:51.199Z"
   },
   {
    "duration": 0,
    "start_time": "2022-05-29T07:34:08.894Z"
   },
   {
    "duration": 0,
    "start_time": "2022-05-29T07:34:08.895Z"
   },
   {
    "duration": 0,
    "start_time": "2022-05-29T07:34:08.896Z"
   },
   {
    "duration": 0,
    "start_time": "2022-05-29T07:34:08.897Z"
   },
   {
    "duration": 0,
    "start_time": "2022-05-29T07:34:08.898Z"
   },
   {
    "duration": 0,
    "start_time": "2022-05-29T07:34:08.899Z"
   },
   {
    "duration": 0,
    "start_time": "2022-05-29T07:34:08.900Z"
   },
   {
    "duration": 0,
    "start_time": "2022-05-29T07:34:08.901Z"
   },
   {
    "duration": 0,
    "start_time": "2022-05-29T07:34:08.902Z"
   },
   {
    "duration": 0,
    "start_time": "2022-05-29T07:34:08.902Z"
   },
   {
    "duration": 12,
    "start_time": "2022-05-29T07:34:16.369Z"
   },
   {
    "duration": 3,
    "start_time": "2022-05-29T07:35:07.470Z"
   },
   {
    "duration": 108522,
    "start_time": "2022-05-29T07:37:54.428Z"
   },
   {
    "duration": 92587,
    "start_time": "2022-05-29T07:39:42.953Z"
   },
   {
    "duration": 74,
    "start_time": "2022-05-29T07:41:15.542Z"
   },
   {
    "duration": 2563,
    "start_time": "2022-05-29T07:42:49.905Z"
   },
   {
    "duration": 40,
    "start_time": "2022-05-29T07:42:52.470Z"
   },
   {
    "duration": 1713,
    "start_time": "2022-05-29T07:43:34.152Z"
   },
   {
    "duration": 890,
    "start_time": "2022-05-29T07:43:35.867Z"
   },
   {
    "duration": 585,
    "start_time": "2022-05-29T07:43:36.759Z"
   },
   {
    "duration": 2112,
    "start_time": "2022-05-29T07:43:37.345Z"
   },
   {
    "duration": 94975,
    "start_time": "2022-05-29T07:43:39.460Z"
   },
   {
    "duration": 6,
    "start_time": "2022-05-29T07:45:14.436Z"
   },
   {
    "duration": 89,
    "start_time": "2022-05-29T07:45:14.443Z"
   },
   {
    "duration": 7002,
    "start_time": "2022-05-29T07:45:14.534Z"
   },
   {
    "duration": 6,
    "start_time": "2022-05-29T07:45:21.538Z"
   },
   {
    "duration": 6,
    "start_time": "2022-05-29T07:45:21.545Z"
   },
   {
    "duration": 7,
    "start_time": "2022-05-29T07:45:21.552Z"
   },
   {
    "duration": 21,
    "start_time": "2022-05-29T07:45:21.560Z"
   },
   {
    "duration": 109712,
    "start_time": "2022-05-29T07:45:21.587Z"
   },
   {
    "duration": 92823,
    "start_time": "2022-05-29T07:47:11.302Z"
   },
   {
    "duration": 231,
    "start_time": "2022-05-29T07:48:44.126Z"
   },
   {
    "duration": 0,
    "start_time": "2022-05-29T07:48:44.358Z"
   },
   {
    "duration": 0,
    "start_time": "2022-05-29T07:48:44.360Z"
   },
   {
    "duration": 0,
    "start_time": "2022-05-29T07:48:44.361Z"
   },
   {
    "duration": 0,
    "start_time": "2022-05-29T07:48:44.362Z"
   },
   {
    "duration": 0,
    "start_time": "2022-05-29T07:48:44.363Z"
   },
   {
    "duration": 0,
    "start_time": "2022-05-29T07:48:44.364Z"
   },
   {
    "duration": 0,
    "start_time": "2022-05-29T07:48:44.381Z"
   },
   {
    "duration": 16,
    "start_time": "2022-05-29T07:49:28.248Z"
   },
   {
    "duration": 38,
    "start_time": "2022-05-29T07:49:48.198Z"
   },
   {
    "duration": 7351,
    "start_time": "2022-05-29T07:49:49.070Z"
   },
   {
    "duration": 5,
    "start_time": "2022-05-29T07:49:59.426Z"
   },
   {
    "duration": 4,
    "start_time": "2022-05-29T07:49:59.997Z"
   },
   {
    "duration": 10,
    "start_time": "2022-05-29T07:50:21.713Z"
   },
   {
    "duration": 5,
    "start_time": "2022-05-29T07:51:34.022Z"
   },
   {
    "duration": 4,
    "start_time": "2022-05-29T07:51:38.092Z"
   },
   {
    "duration": 65,
    "start_time": "2022-05-29T07:56:47.945Z"
   },
   {
    "duration": 8,
    "start_time": "2022-05-29T07:58:17.524Z"
   },
   {
    "duration": 1754,
    "start_time": "2022-05-29T07:58:22.714Z"
   },
   {
    "duration": 3166,
    "start_time": "2022-05-29T07:58:24.470Z"
   },
   {
    "duration": 497,
    "start_time": "2022-05-29T07:58:27.638Z"
   },
   {
    "duration": 2001,
    "start_time": "2022-05-29T07:58:28.136Z"
   },
   {
    "duration": 5,
    "start_time": "2022-05-29T08:00:05.412Z"
   },
   {
    "duration": 6,
    "start_time": "2022-05-29T08:00:05.439Z"
   },
   {
    "duration": 1611,
    "start_time": "2022-05-29T08:00:22.726Z"
   },
   {
    "duration": 779,
    "start_time": "2022-05-29T08:00:24.339Z"
   },
   {
    "duration": 1161,
    "start_time": "2022-05-29T08:00:25.119Z"
   },
   {
    "duration": 2401,
    "start_time": "2022-05-29T08:00:26.284Z"
   },
   {
    "duration": 92673,
    "start_time": "2022-05-29T08:00:28.688Z"
   },
   {
    "duration": 17,
    "start_time": "2022-05-29T08:02:01.363Z"
   },
   {
    "duration": 40,
    "start_time": "2022-05-29T08:02:01.381Z"
   },
   {
    "duration": 5423,
    "start_time": "2022-05-29T08:02:01.422Z"
   },
   {
    "duration": 6,
    "start_time": "2022-05-29T08:02:06.847Z"
   },
   {
    "duration": 4,
    "start_time": "2022-05-29T08:02:06.854Z"
   },
   {
    "duration": 30,
    "start_time": "2022-05-29T08:02:06.859Z"
   },
   {
    "duration": 8,
    "start_time": "2022-05-29T08:02:06.891Z"
   },
   {
    "duration": 72247,
    "start_time": "2022-05-29T08:02:06.901Z"
   },
   {
    "duration": 1,
    "start_time": "2022-05-29T08:03:19.149Z"
   },
   {
    "duration": 0,
    "start_time": "2022-05-29T08:03:19.151Z"
   },
   {
    "duration": 0,
    "start_time": "2022-05-29T08:03:19.152Z"
   },
   {
    "duration": 0,
    "start_time": "2022-05-29T08:03:19.153Z"
   },
   {
    "duration": 0,
    "start_time": "2022-05-29T08:03:19.154Z"
   },
   {
    "duration": 0,
    "start_time": "2022-05-29T08:03:19.155Z"
   },
   {
    "duration": 0,
    "start_time": "2022-05-29T08:03:19.156Z"
   },
   {
    "duration": 1,
    "start_time": "2022-05-29T08:03:19.183Z"
   },
   {
    "duration": 0,
    "start_time": "2022-05-29T08:03:19.184Z"
   },
   {
    "duration": 0,
    "start_time": "2022-05-29T08:03:19.185Z"
   },
   {
    "duration": 142081,
    "start_time": "2022-05-29T08:03:25.506Z"
   },
   {
    "duration": 18,
    "start_time": "2022-05-29T08:05:47.589Z"
   },
   {
    "duration": 3,
    "start_time": "2022-05-29T08:06:11.245Z"
   },
   {
    "duration": 3281,
    "start_time": "2022-05-29T08:06:14.120Z"
   },
   {
    "duration": 23,
    "start_time": "2022-05-29T08:06:17.402Z"
   },
   {
    "duration": 41520,
    "start_time": "2022-05-29T08:09:30.290Z"
   },
   {
    "duration": 20,
    "start_time": "2022-05-29T08:10:11.811Z"
   },
   {
    "duration": 1605,
    "start_time": "2022-05-29T08:10:34.664Z"
   },
   {
    "duration": 801,
    "start_time": "2022-05-29T08:10:36.270Z"
   },
   {
    "duration": 513,
    "start_time": "2022-05-29T08:10:37.072Z"
   },
   {
    "duration": 1951,
    "start_time": "2022-05-29T08:10:37.589Z"
   },
   {
    "duration": 92046,
    "start_time": "2022-05-29T08:10:39.542Z"
   },
   {
    "duration": 5,
    "start_time": "2022-05-29T08:12:11.590Z"
   },
   {
    "duration": 29,
    "start_time": "2022-05-29T08:12:11.596Z"
   },
   {
    "duration": 6675,
    "start_time": "2022-05-29T08:12:11.626Z"
   },
   {
    "duration": 6,
    "start_time": "2022-05-29T08:12:18.302Z"
   },
   {
    "duration": 3,
    "start_time": "2022-05-29T08:12:18.309Z"
   },
   {
    "duration": 4,
    "start_time": "2022-05-29T08:12:18.314Z"
   },
   {
    "duration": 5,
    "start_time": "2022-05-29T08:12:18.320Z"
   },
   {
    "duration": 154885,
    "start_time": "2022-05-29T08:12:18.326Z"
   },
   {
    "duration": 141819,
    "start_time": "2022-05-29T08:14:53.214Z"
   },
   {
    "duration": 170,
    "start_time": "2022-05-29T08:17:15.035Z"
   },
   {
    "duration": 0,
    "start_time": "2022-05-29T08:17:15.207Z"
   },
   {
    "duration": 0,
    "start_time": "2022-05-29T08:17:15.209Z"
   },
   {
    "duration": 0,
    "start_time": "2022-05-29T08:17:15.210Z"
   },
   {
    "duration": 0,
    "start_time": "2022-05-29T08:17:15.212Z"
   },
   {
    "duration": 0,
    "start_time": "2022-05-29T08:17:15.213Z"
   },
   {
    "duration": 0,
    "start_time": "2022-05-29T08:17:15.214Z"
   },
   {
    "duration": 1,
    "start_time": "2022-05-29T08:17:15.215Z"
   },
   {
    "duration": 0,
    "start_time": "2022-05-29T08:17:15.217Z"
   },
   {
    "duration": 0,
    "start_time": "2022-05-29T08:17:15.218Z"
   },
   {
    "duration": 1567,
    "start_time": "2022-05-29T08:19:07.873Z"
   },
   {
    "duration": 776,
    "start_time": "2022-05-29T08:19:09.442Z"
   },
   {
    "duration": 514,
    "start_time": "2022-05-29T08:19:10.220Z"
   },
   {
    "duration": 1964,
    "start_time": "2022-05-29T08:19:10.735Z"
   },
   {
    "duration": 93293,
    "start_time": "2022-05-29T08:19:12.701Z"
   },
   {
    "duration": 27,
    "start_time": "2022-05-29T08:20:45.996Z"
   },
   {
    "duration": 6,
    "start_time": "2022-05-29T08:20:46.024Z"
   },
   {
    "duration": 6697,
    "start_time": "2022-05-29T08:20:46.031Z"
   },
   {
    "duration": 5,
    "start_time": "2022-05-29T08:20:52.730Z"
   },
   {
    "duration": 11,
    "start_time": "2022-05-29T08:20:52.737Z"
   },
   {
    "duration": 10,
    "start_time": "2022-05-29T08:20:52.752Z"
   },
   {
    "duration": 12,
    "start_time": "2022-05-29T08:20:52.763Z"
   },
   {
    "duration": 27341,
    "start_time": "2022-05-29T08:20:52.789Z"
   },
   {
    "duration": 0,
    "start_time": "2022-05-29T08:21:20.132Z"
   },
   {
    "duration": 0,
    "start_time": "2022-05-29T08:21:20.133Z"
   },
   {
    "duration": 0,
    "start_time": "2022-05-29T08:21:20.134Z"
   },
   {
    "duration": 0,
    "start_time": "2022-05-29T08:21:20.135Z"
   },
   {
    "duration": 0,
    "start_time": "2022-05-29T08:21:20.136Z"
   },
   {
    "duration": 0,
    "start_time": "2022-05-29T08:21:20.137Z"
   },
   {
    "duration": 0,
    "start_time": "2022-05-29T08:21:20.139Z"
   },
   {
    "duration": 0,
    "start_time": "2022-05-29T08:21:20.140Z"
   },
   {
    "duration": 0,
    "start_time": "2022-05-29T08:21:20.141Z"
   },
   {
    "duration": 0,
    "start_time": "2022-05-29T08:21:20.143Z"
   },
   {
    "duration": 0,
    "start_time": "2022-05-29T08:21:20.144Z"
   },
   {
    "duration": 138916,
    "start_time": "2022-05-29T08:21:24.202Z"
   },
   {
    "duration": 39,
    "start_time": "2022-05-29T08:23:43.120Z"
   },
   {
    "duration": 52172,
    "start_time": "2022-05-29T08:27:20.815Z"
   },
   {
    "duration": 110,
    "start_time": "2022-05-29T08:28:12.990Z"
   },
   {
    "duration": 3,
    "start_time": "2022-05-29T08:29:48.365Z"
   },
   {
    "duration": 1486,
    "start_time": "2022-05-29T08:34:09.447Z"
   },
   {
    "duration": 787,
    "start_time": "2022-05-29T08:34:10.935Z"
   },
   {
    "duration": 520,
    "start_time": "2022-05-29T08:34:11.723Z"
   },
   {
    "duration": 2040,
    "start_time": "2022-05-29T08:34:12.246Z"
   },
   {
    "duration": 93608,
    "start_time": "2022-05-29T08:34:14.287Z"
   },
   {
    "duration": 25,
    "start_time": "2022-05-29T08:35:47.897Z"
   },
   {
    "duration": 6,
    "start_time": "2022-05-29T08:35:47.923Z"
   },
   {
    "duration": 5457,
    "start_time": "2022-05-29T08:35:47.930Z"
   },
   {
    "duration": 0,
    "start_time": "2022-05-29T08:35:53.388Z"
   },
   {
    "duration": 0,
    "start_time": "2022-05-29T08:35:53.390Z"
   },
   {
    "duration": 0,
    "start_time": "2022-05-29T08:35:53.390Z"
   },
   {
    "duration": 0,
    "start_time": "2022-05-29T08:35:53.391Z"
   },
   {
    "duration": 0,
    "start_time": "2022-05-29T08:35:53.392Z"
   },
   {
    "duration": 0,
    "start_time": "2022-05-29T08:35:53.393Z"
   },
   {
    "duration": 0,
    "start_time": "2022-05-29T08:35:53.394Z"
   },
   {
    "duration": 0,
    "start_time": "2022-05-29T08:35:53.395Z"
   },
   {
    "duration": 0,
    "start_time": "2022-05-29T08:35:53.396Z"
   },
   {
    "duration": 0,
    "start_time": "2022-05-29T08:35:53.397Z"
   },
   {
    "duration": 0,
    "start_time": "2022-05-29T08:35:53.398Z"
   },
   {
    "duration": 0,
    "start_time": "2022-05-29T08:35:53.399Z"
   },
   {
    "duration": 0,
    "start_time": "2022-05-29T08:35:53.400Z"
   },
   {
    "duration": 0,
    "start_time": "2022-05-29T08:35:53.402Z"
   },
   {
    "duration": 15,
    "start_time": "2022-05-29T08:36:13.243Z"
   },
   {
    "duration": 14,
    "start_time": "2022-05-29T08:36:38.030Z"
   },
   {
    "duration": 1571,
    "start_time": "2022-05-29T08:38:05.555Z"
   },
   {
    "duration": 814,
    "start_time": "2022-05-29T08:38:07.128Z"
   },
   {
    "duration": 554,
    "start_time": "2022-05-29T08:38:07.944Z"
   },
   {
    "duration": 1999,
    "start_time": "2022-05-29T08:38:08.500Z"
   },
   {
    "duration": 92101,
    "start_time": "2022-05-29T08:38:10.500Z"
   },
   {
    "duration": 26,
    "start_time": "2022-05-29T08:39:42.604Z"
   },
   {
    "duration": 4,
    "start_time": "2022-05-29T08:39:42.632Z"
   },
   {
    "duration": 6679,
    "start_time": "2022-05-29T08:39:42.638Z"
   },
   {
    "duration": 6,
    "start_time": "2022-05-29T08:39:49.319Z"
   },
   {
    "duration": 5,
    "start_time": "2022-05-29T08:39:49.327Z"
   },
   {
    "duration": 8,
    "start_time": "2022-05-29T08:39:49.333Z"
   },
   {
    "duration": 162031,
    "start_time": "2022-05-29T08:39:49.342Z"
   },
   {
    "duration": 14,
    "start_time": "2022-05-29T08:42:31.376Z"
   },
   {
    "duration": 29,
    "start_time": "2022-05-29T08:42:31.391Z"
   },
   {
    "duration": 0,
    "start_time": "2022-05-29T08:42:31.422Z"
   },
   {
    "duration": 0,
    "start_time": "2022-05-29T08:42:31.423Z"
   },
   {
    "duration": 0,
    "start_time": "2022-05-29T08:42:31.424Z"
   },
   {
    "duration": 0,
    "start_time": "2022-05-29T08:42:31.425Z"
   },
   {
    "duration": 0,
    "start_time": "2022-05-29T08:42:31.426Z"
   },
   {
    "duration": 0,
    "start_time": "2022-05-29T08:42:31.426Z"
   },
   {
    "duration": 0,
    "start_time": "2022-05-29T08:42:31.427Z"
   },
   {
    "duration": 0,
    "start_time": "2022-05-29T08:42:31.428Z"
   },
   {
    "duration": 811,
    "start_time": "2022-05-29T08:45:02.823Z"
   },
   {
    "duration": 171,
    "start_time": "2022-05-29T08:45:11.588Z"
   },
   {
    "duration": 39,
    "start_time": "2022-05-29T08:45:28.928Z"
   },
   {
    "duration": 8395,
    "start_time": "2022-05-29T08:46:25.256Z"
   },
   {
    "duration": 18,
    "start_time": "2022-05-29T08:46:36.807Z"
   },
   {
    "duration": 21,
    "start_time": "2022-05-29T08:46:38.672Z"
   },
   {
    "duration": 161790,
    "start_time": "2022-05-29T08:46:43.027Z"
   },
   {
    "duration": 3276,
    "start_time": "2022-05-29T08:49:24.819Z"
   },
   {
    "duration": 458,
    "start_time": "2022-05-29T08:49:28.096Z"
   },
   {
    "duration": 1625,
    "start_time": "2022-05-29T09:03:10.285Z"
   },
   {
    "duration": 798,
    "start_time": "2022-05-29T09:03:11.911Z"
   },
   {
    "duration": 605,
    "start_time": "2022-05-29T09:03:12.710Z"
   },
   {
    "duration": 1994,
    "start_time": "2022-05-29T09:03:13.317Z"
   },
   {
    "duration": 90591,
    "start_time": "2022-05-29T09:03:15.314Z"
   },
   {
    "duration": 30,
    "start_time": "2022-05-29T09:04:45.906Z"
   },
   {
    "duration": 5,
    "start_time": "2022-05-29T09:04:45.937Z"
   },
   {
    "duration": 6479,
    "start_time": "2022-05-29T09:04:45.944Z"
   },
   {
    "duration": 6,
    "start_time": "2022-05-29T09:04:52.425Z"
   },
   {
    "duration": 38,
    "start_time": "2022-05-29T09:04:52.432Z"
   },
   {
    "duration": 0,
    "start_time": "2022-05-29T09:04:52.472Z"
   },
   {
    "duration": 0,
    "start_time": "2022-05-29T09:04:52.474Z"
   },
   {
    "duration": 0,
    "start_time": "2022-05-29T09:04:52.474Z"
   },
   {
    "duration": 0,
    "start_time": "2022-05-29T09:04:52.475Z"
   },
   {
    "duration": 0,
    "start_time": "2022-05-29T09:04:52.476Z"
   },
   {
    "duration": 0,
    "start_time": "2022-05-29T09:04:52.477Z"
   },
   {
    "duration": 0,
    "start_time": "2022-05-29T09:04:52.478Z"
   },
   {
    "duration": 0,
    "start_time": "2022-05-29T09:04:52.478Z"
   },
   {
    "duration": 0,
    "start_time": "2022-05-29T09:04:52.479Z"
   },
   {
    "duration": 0,
    "start_time": "2022-05-29T09:04:52.484Z"
   },
   {
    "duration": 6,
    "start_time": "2022-05-29T09:05:57.341Z"
   },
   {
    "duration": 5,
    "start_time": "2022-05-29T09:06:12.838Z"
   },
   {
    "duration": 43,
    "start_time": "2022-05-29T09:06:36.466Z"
   },
   {
    "duration": 137,
    "start_time": "2022-05-29T09:06:41.152Z"
   },
   {
    "duration": 9,
    "start_time": "2022-05-29T09:07:47.836Z"
   },
   {
    "duration": 30,
    "start_time": "2022-05-29T09:07:57.308Z"
   },
   {
    "duration": 28,
    "start_time": "2022-05-29T09:08:12.749Z"
   },
   {
    "duration": 25,
    "start_time": "2022-05-29T09:08:38.309Z"
   },
   {
    "duration": 40,
    "start_time": "2022-05-29T09:09:04.199Z"
   },
   {
    "duration": 55,
    "start_time": "2022-05-29T09:09:25.710Z"
   },
   {
    "duration": 6,
    "start_time": "2022-05-29T09:09:41.011Z"
   },
   {
    "duration": 10,
    "start_time": "2022-05-29T09:09:46.618Z"
   },
   {
    "duration": 1607,
    "start_time": "2022-05-29T09:10:34.985Z"
   },
   {
    "duration": 799,
    "start_time": "2022-05-29T09:10:36.594Z"
   },
   {
    "duration": 612,
    "start_time": "2022-05-29T09:10:37.395Z"
   },
   {
    "duration": 10,
    "start_time": "2022-05-29T09:10:38.009Z"
   },
   {
    "duration": 2833,
    "start_time": "2022-05-29T09:10:38.020Z"
   },
   {
    "duration": 92164,
    "start_time": "2022-05-29T09:10:40.854Z"
   },
   {
    "duration": 58,
    "start_time": "2022-05-29T09:12:13.022Z"
   },
   {
    "duration": 12,
    "start_time": "2022-05-29T09:12:13.086Z"
   },
   {
    "duration": 6502,
    "start_time": "2022-05-29T09:12:13.105Z"
   },
   {
    "duration": 7,
    "start_time": "2022-05-29T09:12:19.608Z"
   },
   {
    "duration": 158918,
    "start_time": "2022-05-29T09:12:19.616Z"
   },
   {
    "duration": 3,
    "start_time": "2022-05-29T09:14:58.536Z"
   },
   {
    "duration": 8362,
    "start_time": "2022-05-29T09:14:58.541Z"
   },
   {
    "duration": 26,
    "start_time": "2022-05-29T09:15:06.905Z"
   },
   {
    "duration": 158452,
    "start_time": "2022-05-29T09:15:06.933Z"
   },
   {
    "duration": 3065,
    "start_time": "2022-05-29T09:17:45.387Z"
   },
   {
    "duration": 457,
    "start_time": "2022-05-29T09:17:48.454Z"
   },
   {
    "duration": 632308,
    "start_time": "2022-05-29T09:17:48.912Z"
   },
   {
    "duration": 0,
    "start_time": "2022-05-29T09:28:21.222Z"
   },
   {
    "duration": 0,
    "start_time": "2022-05-29T09:28:21.223Z"
   },
   {
    "duration": 59693,
    "start_time": "2022-05-29T09:28:25.889Z"
   },
   {
    "duration": 16,
    "start_time": "2022-05-29T09:29:25.585Z"
   },
   {
    "duration": 26,
    "start_time": "2022-05-29T15:00:53.394Z"
   },
   {
    "duration": 38,
    "start_time": "2022-05-29T15:00:59.901Z"
   },
   {
    "duration": 73,
    "start_time": "2022-05-29T15:01:06.991Z"
   },
   {
    "duration": 62,
    "start_time": "2022-05-29T15:01:38.963Z"
   },
   {
    "duration": 7,
    "start_time": "2022-05-29T15:04:48.094Z"
   },
   {
    "duration": 2483,
    "start_time": "2022-05-29T15:05:51.317Z"
   },
   {
    "duration": 2343,
    "start_time": "2022-05-29T15:05:53.802Z"
   },
   {
    "duration": 538,
    "start_time": "2022-05-29T15:05:56.147Z"
   },
   {
    "duration": 1973,
    "start_time": "2022-05-29T15:05:56.687Z"
   },
   {
    "duration": 108191,
    "start_time": "2022-05-29T15:05:58.662Z"
   },
   {
    "duration": 8,
    "start_time": "2022-05-29T15:07:46.855Z"
   },
   {
    "duration": 43,
    "start_time": "2022-05-29T15:07:46.865Z"
   },
   {
    "duration": 6842,
    "start_time": "2022-05-29T15:07:46.910Z"
   },
   {
    "duration": 9,
    "start_time": "2022-05-29T15:07:53.753Z"
   },
   {
    "duration": 2328,
    "start_time": "2022-05-29T15:42:53.700Z"
   },
   {
    "duration": 2356,
    "start_time": "2022-05-29T15:42:56.030Z"
   },
   {
    "duration": 510,
    "start_time": "2022-05-29T15:42:58.388Z"
   },
   {
    "duration": 1955,
    "start_time": "2022-05-29T15:42:58.900Z"
   },
   {
    "duration": 108145,
    "start_time": "2022-05-29T15:43:00.859Z"
   },
   {
    "duration": 9,
    "start_time": "2022-05-29T15:44:49.006Z"
   },
   {
    "duration": 62,
    "start_time": "2022-05-29T15:44:49.017Z"
   },
   {
    "duration": 6679,
    "start_time": "2022-05-29T15:44:49.080Z"
   },
   {
    "duration": 7,
    "start_time": "2022-05-29T15:44:55.761Z"
   },
   {
    "duration": 52757,
    "start_time": "2022-05-29T15:44:55.771Z"
   },
   {
    "duration": 0,
    "start_time": "2022-05-29T15:45:48.529Z"
   },
   {
    "duration": 0,
    "start_time": "2022-05-29T15:45:48.530Z"
   },
   {
    "duration": 0,
    "start_time": "2022-05-29T15:45:48.531Z"
   },
   {
    "duration": 0,
    "start_time": "2022-05-29T15:45:48.532Z"
   },
   {
    "duration": 0,
    "start_time": "2022-05-29T15:45:48.533Z"
   },
   {
    "duration": 0,
    "start_time": "2022-05-29T15:45:48.534Z"
   },
   {
    "duration": 0,
    "start_time": "2022-05-29T15:45:48.535Z"
   },
   {
    "duration": 0,
    "start_time": "2022-05-29T15:45:48.537Z"
   },
   {
    "duration": 1603,
    "start_time": "2022-05-29T15:46:00.409Z"
   },
   {
    "duration": 779,
    "start_time": "2022-05-29T15:46:02.014Z"
   },
   {
    "duration": 565,
    "start_time": "2022-05-29T15:46:02.795Z"
   },
   {
    "duration": 1901,
    "start_time": "2022-05-29T15:46:03.362Z"
   },
   {
    "duration": 100923,
    "start_time": "2022-05-29T15:46:05.266Z"
   },
   {
    "duration": 6,
    "start_time": "2022-05-29T15:47:46.191Z"
   },
   {
    "duration": 33,
    "start_time": "2022-05-29T15:47:46.199Z"
   },
   {
    "duration": 6935,
    "start_time": "2022-05-29T15:47:46.234Z"
   },
   {
    "duration": 7,
    "start_time": "2022-05-29T15:47:53.170Z"
   },
   {
    "duration": 200082,
    "start_time": "2022-05-29T15:47:53.178Z"
   },
   {
    "duration": 13009,
    "start_time": "2022-05-29T15:51:13.262Z"
   },
   {
    "duration": 27,
    "start_time": "2022-05-29T15:51:26.272Z"
   },
   {
    "duration": 164510,
    "start_time": "2022-05-29T15:51:26.300Z"
   },
   {
    "duration": 3369,
    "start_time": "2022-05-29T15:54:10.813Z"
   },
   {
    "duration": 466,
    "start_time": "2022-05-29T15:54:14.184Z"
   },
   {
    "duration": 422819,
    "start_time": "2022-05-29T15:54:14.652Z"
   },
   {
    "duration": 60895,
    "start_time": "2022-05-29T16:01:17.473Z"
   },
   {
    "duration": 101,
    "start_time": "2022-05-29T16:02:18.371Z"
   },
   {
    "duration": 3400,
    "start_time": "2022-05-29T16:10:57.398Z"
   },
   {
    "duration": 478,
    "start_time": "2022-05-29T16:11:00.800Z"
   },
   {
    "duration": 59,
    "start_time": "2022-05-29T16:25:13.474Z"
   },
   {
    "duration": 2870,
    "start_time": "2022-05-29T16:25:22.022Z"
   },
   {
    "duration": 2376,
    "start_time": "2022-05-29T16:25:24.893Z"
   },
   {
    "duration": 545,
    "start_time": "2022-05-29T16:25:27.272Z"
   },
   {
    "duration": 1924,
    "start_time": "2022-05-29T16:25:27.819Z"
   },
   {
    "duration": 100369,
    "start_time": "2022-05-29T16:25:29.745Z"
   },
   {
    "duration": 7,
    "start_time": "2022-05-29T16:27:10.116Z"
   },
   {
    "duration": 43,
    "start_time": "2022-05-29T16:27:10.124Z"
   },
   {
    "duration": 6467,
    "start_time": "2022-05-29T16:27:10.168Z"
   },
   {
    "duration": 6,
    "start_time": "2022-05-29T16:27:16.637Z"
   },
   {
    "duration": 198498,
    "start_time": "2022-05-29T16:27:16.646Z"
   },
   {
    "duration": 12957,
    "start_time": "2022-05-29T16:30:35.146Z"
   },
   {
    "duration": 27,
    "start_time": "2022-05-29T16:30:48.105Z"
   },
   {
    "duration": 160528,
    "start_time": "2022-05-29T16:30:48.134Z"
   },
   {
    "duration": 3432,
    "start_time": "2022-05-29T16:33:28.664Z"
   },
   {
    "duration": 488,
    "start_time": "2022-05-29T16:33:32.098Z"
   },
   {
    "duration": 429975,
    "start_time": "2022-05-29T16:33:32.588Z"
   },
   {
    "duration": 81696,
    "start_time": "2022-05-29T16:40:42.565Z"
   },
   {
    "duration": 17,
    "start_time": "2022-05-29T16:42:04.263Z"
   },
   {
    "duration": 1976,
    "start_time": "2022-05-30T16:35:50.116Z"
   },
   {
    "duration": 2652,
    "start_time": "2022-05-30T16:35:52.095Z"
   },
   {
    "duration": 521,
    "start_time": "2022-05-30T16:35:54.749Z"
   },
   {
    "duration": 4298,
    "start_time": "2022-05-30T16:35:55.272Z"
   },
   {
    "duration": 116185,
    "start_time": "2022-05-30T16:35:59.573Z"
   },
   {
    "duration": 5,
    "start_time": "2022-05-30T16:37:55.760Z"
   },
   {
    "duration": 35,
    "start_time": "2022-05-30T16:37:55.767Z"
   },
   {
    "duration": 7384,
    "start_time": "2022-05-30T16:37:55.804Z"
   },
   {
    "duration": 7,
    "start_time": "2022-05-30T16:38:03.190Z"
   },
   {
    "duration": 42180,
    "start_time": "2022-05-30T16:38:03.199Z"
   },
   {
    "duration": 0,
    "start_time": "2022-05-30T16:38:45.382Z"
   },
   {
    "duration": 0,
    "start_time": "2022-05-30T16:38:45.383Z"
   },
   {
    "duration": 0,
    "start_time": "2022-05-30T16:38:45.384Z"
   },
   {
    "duration": 0,
    "start_time": "2022-05-30T16:38:45.385Z"
   },
   {
    "duration": 0,
    "start_time": "2022-05-30T16:38:45.386Z"
   },
   {
    "duration": 0,
    "start_time": "2022-05-30T16:38:45.387Z"
   },
   {
    "duration": 0,
    "start_time": "2022-05-30T16:38:45.388Z"
   },
   {
    "duration": 0,
    "start_time": "2022-05-30T16:38:45.390Z"
   },
   {
    "duration": 119836,
    "start_time": "2022-05-30T16:39:21.420Z"
   },
   {
    "duration": 25,
    "start_time": "2022-05-30T16:41:21.259Z"
   },
   {
    "duration": 116262,
    "start_time": "2022-05-30T16:43:27.594Z"
   },
   {
    "duration": 105,
    "start_time": "2022-05-30T16:45:23.858Z"
   },
   {
    "duration": 4,
    "start_time": "2022-05-30T16:57:41.581Z"
   },
   {
    "duration": 1466,
    "start_time": "2022-05-30T16:57:45.769Z"
   },
   {
    "duration": 9,
    "start_time": "2022-05-30T16:59:17.664Z"
   },
   {
    "duration": 88085,
    "start_time": "2022-05-30T16:59:20.312Z"
   },
   {
    "duration": 39,
    "start_time": "2022-05-30T17:11:14.274Z"
   },
   {
    "duration": 20,
    "start_time": "2022-05-30T17:11:23.966Z"
   },
   {
    "duration": 9,
    "start_time": "2022-05-30T17:11:47.726Z"
   },
   {
    "duration": 15,
    "start_time": "2022-05-30T17:11:54.388Z"
   },
   {
    "duration": 12,
    "start_time": "2022-05-30T17:13:25.199Z"
   },
   {
    "duration": 20,
    "start_time": "2022-05-30T17:14:55.348Z"
   },
   {
    "duration": 13,
    "start_time": "2022-05-30T17:15:25.401Z"
   },
   {
    "duration": 7,
    "start_time": "2022-05-30T17:15:55.335Z"
   },
   {
    "duration": 16,
    "start_time": "2022-05-30T17:17:01.015Z"
   },
   {
    "duration": 6,
    "start_time": "2022-05-30T17:17:43.648Z"
   },
   {
    "duration": 7,
    "start_time": "2022-05-30T17:18:02.251Z"
   },
   {
    "duration": 6,
    "start_time": "2022-05-30T17:18:16.726Z"
   },
   {
    "duration": 2721,
    "start_time": "2022-05-30T17:18:38.357Z"
   },
   {
    "duration": 1866,
    "start_time": "2022-05-30T17:18:41.081Z"
   },
   {
    "duration": 596,
    "start_time": "2022-05-30T17:18:42.951Z"
   },
   {
    "duration": 4,
    "start_time": "2022-05-30T17:18:43.554Z"
   },
   {
    "duration": 2170,
    "start_time": "2022-05-30T17:18:43.559Z"
   },
   {
    "duration": 0,
    "start_time": "2022-05-30T17:18:45.731Z"
   },
   {
    "duration": 0,
    "start_time": "2022-05-30T17:18:45.732Z"
   },
   {
    "duration": 0,
    "start_time": "2022-05-30T17:18:45.734Z"
   },
   {
    "duration": 0,
    "start_time": "2022-05-30T17:18:45.735Z"
   },
   {
    "duration": 0,
    "start_time": "2022-05-30T17:18:45.736Z"
   },
   {
    "duration": 0,
    "start_time": "2022-05-30T17:18:45.737Z"
   },
   {
    "duration": 0,
    "start_time": "2022-05-30T17:18:45.738Z"
   },
   {
    "duration": 0,
    "start_time": "2022-05-30T17:18:45.740Z"
   },
   {
    "duration": 0,
    "start_time": "2022-05-30T17:18:45.741Z"
   },
   {
    "duration": 0,
    "start_time": "2022-05-30T17:18:45.754Z"
   },
   {
    "duration": 0,
    "start_time": "2022-05-30T17:18:45.757Z"
   },
   {
    "duration": 0,
    "start_time": "2022-05-30T17:18:45.759Z"
   },
   {
    "duration": 0,
    "start_time": "2022-05-30T17:18:45.761Z"
   },
   {
    "duration": 0,
    "start_time": "2022-05-30T17:18:45.763Z"
   },
   {
    "duration": 14,
    "start_time": "2022-05-30T17:18:51.965Z"
   },
   {
    "duration": 4,
    "start_time": "2022-05-30T17:19:35.886Z"
   },
   {
    "duration": 31,
    "start_time": "2022-05-30T17:19:49.667Z"
   },
   {
    "duration": 43,
    "start_time": "2022-05-30T17:19:59.997Z"
   },
   {
    "duration": 30,
    "start_time": "2022-05-30T17:20:10.333Z"
   },
   {
    "duration": 24,
    "start_time": "2022-05-30T17:20:52.796Z"
   },
   {
    "duration": 38,
    "start_time": "2022-05-30T17:21:27.855Z"
   },
   {
    "duration": 40,
    "start_time": "2022-05-30T17:22:30.942Z"
   },
   {
    "duration": 6,
    "start_time": "2022-05-30T17:24:34.785Z"
   },
   {
    "duration": 36,
    "start_time": "2022-05-30T17:24:56.309Z"
   },
   {
    "duration": 4,
    "start_time": "2022-05-30T17:26:10.918Z"
   },
   {
    "duration": 17,
    "start_time": "2022-05-30T17:26:32.255Z"
   },
   {
    "duration": 7,
    "start_time": "2022-05-30T17:27:32.142Z"
   },
   {
    "duration": 10,
    "start_time": "2022-05-30T17:27:38.284Z"
   },
   {
    "duration": 7,
    "start_time": "2022-05-30T17:28:03.703Z"
   },
   {
    "duration": 17,
    "start_time": "2022-05-30T17:28:07.756Z"
   },
   {
    "duration": 30,
    "start_time": "2022-05-30T17:28:17.509Z"
   },
   {
    "duration": 9,
    "start_time": "2022-05-30T17:28:22.235Z"
   },
   {
    "duration": 25,
    "start_time": "2022-05-30T17:28:31.097Z"
   },
   {
    "duration": 6,
    "start_time": "2022-05-30T17:28:46.085Z"
   },
   {
    "duration": 42,
    "start_time": "2022-05-30T17:28:46.952Z"
   },
   {
    "duration": 7094,
    "start_time": "2022-05-30T17:28:47.812Z"
   },
   {
    "duration": 44,
    "start_time": "2022-05-30T17:29:00.853Z"
   },
   {
    "duration": 57958,
    "start_time": "2022-05-30T17:29:39.204Z"
   },
   {
    "duration": 52744,
    "start_time": "2022-05-30T17:31:12.824Z"
   },
   {
    "duration": 10,
    "start_time": "2022-05-30T17:32:49.942Z"
   },
   {
    "duration": 13,
    "start_time": "2022-05-30T17:39:15.641Z"
   },
   {
    "duration": 14,
    "start_time": "2022-05-30T17:39:51.844Z"
   },
   {
    "duration": 16,
    "start_time": "2022-05-30T17:40:09.207Z"
   },
   {
    "duration": 3,
    "start_time": "2022-05-30T17:40:14.795Z"
   },
   {
    "duration": 54595,
    "start_time": "2022-05-30T17:43:54.774Z"
   },
   {
    "duration": 41,
    "start_time": "2022-05-30T17:45:12.340Z"
   },
   {
    "duration": 5,
    "start_time": "2022-05-30T17:46:54.817Z"
   },
   {
    "duration": 446,
    "start_time": "2022-05-30T17:47:00.955Z"
   },
   {
    "duration": 15,
    "start_time": "2022-05-30T17:47:49.341Z"
   },
   {
    "duration": 336,
    "start_time": "2022-05-30T17:48:05.937Z"
   },
   {
    "duration": 320,
    "start_time": "2022-05-30T19:42:25.487Z"
   },
   {
    "duration": 1768,
    "start_time": "2022-05-30T19:43:33.353Z"
   },
   {
    "duration": 1085,
    "start_time": "2022-05-30T19:43:35.123Z"
   },
   {
    "duration": 587,
    "start_time": "2022-05-30T19:43:36.210Z"
   },
   {
    "duration": 3,
    "start_time": "2022-05-30T19:43:36.798Z"
   },
   {
    "duration": 125073,
    "start_time": "2022-05-30T19:43:36.804Z"
   },
   {
    "duration": 132,
    "start_time": "2022-05-30T19:45:41.879Z"
   },
   {
    "duration": 0,
    "start_time": "2022-05-30T19:45:42.013Z"
   },
   {
    "duration": 0,
    "start_time": "2022-05-30T19:45:42.014Z"
   },
   {
    "duration": 0,
    "start_time": "2022-05-30T19:45:42.015Z"
   },
   {
    "duration": 0,
    "start_time": "2022-05-30T19:45:42.017Z"
   },
   {
    "duration": 0,
    "start_time": "2022-05-30T19:45:42.018Z"
   },
   {
    "duration": 0,
    "start_time": "2022-05-30T19:45:42.019Z"
   },
   {
    "duration": 0,
    "start_time": "2022-05-30T19:45:42.020Z"
   },
   {
    "duration": 0,
    "start_time": "2022-05-30T19:45:42.021Z"
   },
   {
    "duration": 0,
    "start_time": "2022-05-30T19:45:42.022Z"
   },
   {
    "duration": 0,
    "start_time": "2022-05-30T19:45:42.023Z"
   },
   {
    "duration": 0,
    "start_time": "2022-05-30T19:45:42.024Z"
   },
   {
    "duration": 0,
    "start_time": "2022-05-30T19:45:42.025Z"
   },
   {
    "duration": 0,
    "start_time": "2022-05-30T19:45:42.026Z"
   },
   {
    "duration": 0,
    "start_time": "2022-05-30T19:45:42.027Z"
   },
   {
    "duration": 0,
    "start_time": "2022-05-30T19:45:42.054Z"
   },
   {
    "duration": 8,
    "start_time": "2022-05-30T19:46:01.286Z"
   },
   {
    "duration": 12,
    "start_time": "2022-05-30T19:46:04.937Z"
   },
   {
    "duration": 16,
    "start_time": "2022-05-30T19:47:27.849Z"
   },
   {
    "duration": 4,
    "start_time": "2022-05-30T19:47:34.940Z"
   },
   {
    "duration": 43,
    "start_time": "2022-05-30T19:47:36.550Z"
   },
   {
    "duration": 318,
    "start_time": "2022-05-30T19:47:42.798Z"
   },
   {
    "duration": 7368,
    "start_time": "2022-05-30T19:47:52.983Z"
   },
   {
    "duration": 328,
    "start_time": "2022-05-30T19:48:14.468Z"
   },
   {
    "duration": 4,
    "start_time": "2022-05-30T19:48:40.288Z"
   },
   {
    "duration": 327,
    "start_time": "2022-05-30T19:48:45.679Z"
   },
   {
    "duration": 3,
    "start_time": "2022-05-30T19:53:15.503Z"
   },
   {
    "duration": 292,
    "start_time": "2022-05-30T19:53:28.615Z"
   },
   {
    "duration": 4,
    "start_time": "2022-05-30T19:53:50.841Z"
   },
   {
    "duration": 289,
    "start_time": "2022-05-30T19:53:53.527Z"
   },
   {
    "duration": 3,
    "start_time": "2022-05-30T19:54:05.129Z"
   },
   {
    "duration": 107312,
    "start_time": "2022-05-30T19:54:07.685Z"
   },
   {
    "duration": 3,
    "start_time": "2022-05-30T19:56:07.804Z"
   },
   {
    "duration": 33,
    "start_time": "2022-05-30T19:56:53.654Z"
   },
   {
    "duration": 14,
    "start_time": "2022-05-30T19:57:06.256Z"
   },
   {
    "duration": 11,
    "start_time": "2022-05-30T19:59:15.502Z"
   },
   {
    "duration": 1513,
    "start_time": "2022-05-30T19:59:24.778Z"
   },
   {
    "duration": 721,
    "start_time": "2022-05-30T19:59:26.294Z"
   },
   {
    "duration": 503,
    "start_time": "2022-05-30T19:59:27.017Z"
   },
   {
    "duration": 3,
    "start_time": "2022-05-30T19:59:27.522Z"
   },
   {
    "duration": 116141,
    "start_time": "2022-05-30T19:59:27.527Z"
   },
   {
    "duration": 5,
    "start_time": "2022-05-30T20:01:23.670Z"
   },
   {
    "duration": 35,
    "start_time": "2022-05-30T20:01:23.677Z"
   },
   {
    "duration": 6762,
    "start_time": "2022-05-30T20:01:23.714Z"
   },
   {
    "duration": 7,
    "start_time": "2022-05-30T20:01:30.478Z"
   },
   {
    "duration": 128,
    "start_time": "2022-05-30T20:01:30.486Z"
   },
   {
    "duration": 0,
    "start_time": "2022-05-30T20:01:30.617Z"
   },
   {
    "duration": 0,
    "start_time": "2022-05-30T20:01:30.618Z"
   },
   {
    "duration": 0,
    "start_time": "2022-05-30T20:01:30.619Z"
   },
   {
    "duration": 0,
    "start_time": "2022-05-30T20:01:30.621Z"
   },
   {
    "duration": 0,
    "start_time": "2022-05-30T20:01:30.622Z"
   },
   {
    "duration": 0,
    "start_time": "2022-05-30T20:01:30.624Z"
   },
   {
    "duration": 0,
    "start_time": "2022-05-30T20:01:30.625Z"
   },
   {
    "duration": 0,
    "start_time": "2022-05-30T20:01:30.626Z"
   },
   {
    "duration": 0,
    "start_time": "2022-05-30T20:01:30.627Z"
   },
   {
    "duration": 0,
    "start_time": "2022-05-30T20:01:30.629Z"
   },
   {
    "duration": 0,
    "start_time": "2022-05-30T20:01:30.655Z"
   },
   {
    "duration": 0,
    "start_time": "2022-05-30T20:01:30.656Z"
   },
   {
    "duration": 0,
    "start_time": "2022-05-30T20:01:30.658Z"
   },
   {
    "duration": 0,
    "start_time": "2022-05-30T20:01:30.659Z"
   },
   {
    "duration": 0,
    "start_time": "2022-05-30T20:01:30.660Z"
   },
   {
    "duration": 451987,
    "start_time": "2022-05-30T20:02:01.571Z"
   },
   {
    "duration": 29,
    "start_time": "2022-05-30T20:09:33.560Z"
   },
   {
    "duration": 0,
    "start_time": "2022-05-30T20:09:33.590Z"
   },
   {
    "duration": 0,
    "start_time": "2022-05-30T20:09:33.592Z"
   },
   {
    "duration": 0,
    "start_time": "2022-05-30T20:09:33.593Z"
   },
   {
    "duration": 0,
    "start_time": "2022-05-30T20:09:33.594Z"
   },
   {
    "duration": 0,
    "start_time": "2022-05-30T20:09:33.595Z"
   },
   {
    "duration": 0,
    "start_time": "2022-05-30T20:09:33.596Z"
   },
   {
    "duration": 16,
    "start_time": "2022-05-30T20:13:07.636Z"
   },
   {
    "duration": 20,
    "start_time": "2022-05-30T20:13:18.472Z"
   },
   {
    "duration": 17,
    "start_time": "2022-05-30T20:13:40.620Z"
   },
   {
    "duration": 18,
    "start_time": "2022-05-30T20:14:38.329Z"
   },
   {
    "duration": 13,
    "start_time": "2022-05-30T20:14:49.075Z"
   },
   {
    "duration": 51,
    "start_time": "2022-05-30T20:14:56.993Z"
   },
   {
    "duration": 32,
    "start_time": "2022-05-30T20:15:19.539Z"
   },
   {
    "duration": 4495,
    "start_time": "2022-05-30T20:15:24.357Z"
   },
   {
    "duration": 18,
    "start_time": "2022-05-30T20:15:39.138Z"
   },
   {
    "duration": 27718,
    "start_time": "2022-05-30T20:15:58.667Z"
   },
   {
    "duration": 16,
    "start_time": "2022-05-30T20:16:31.173Z"
   },
   {
    "duration": 3,
    "start_time": "2022-05-30T20:16:37.779Z"
   },
   {
    "duration": 108523,
    "start_time": "2022-05-30T20:16:38.425Z"
   },
   {
    "duration": 5,
    "start_time": "2022-05-30T20:18:26.950Z"
   },
   {
    "duration": 32,
    "start_time": "2022-05-30T20:18:26.957Z"
   },
   {
    "duration": 105760,
    "start_time": "2022-05-30T20:18:54.602Z"
   },
   {
    "duration": 39,
    "start_time": "2022-05-30T20:21:31.174Z"
   },
   {
    "duration": 2266,
    "start_time": "2022-05-30T20:21:37.747Z"
   },
   {
    "duration": 16,
    "start_time": "2022-05-30T20:21:45.481Z"
   },
   {
    "duration": 1802,
    "start_time": "2022-05-30T20:22:10.560Z"
   },
   {
    "duration": 1524,
    "start_time": "2022-05-30T20:22:12.364Z"
   },
   {
    "duration": 506,
    "start_time": "2022-05-30T20:22:13.889Z"
   },
   {
    "duration": 3,
    "start_time": "2022-05-30T20:22:14.397Z"
   },
   {
    "duration": 56816,
    "start_time": "2022-05-30T20:22:14.401Z"
   },
   {
    "duration": 0,
    "start_time": "2022-05-30T20:23:11.219Z"
   },
   {
    "duration": 0,
    "start_time": "2022-05-30T20:23:11.220Z"
   },
   {
    "duration": 0,
    "start_time": "2022-05-30T20:23:11.222Z"
   },
   {
    "duration": 0,
    "start_time": "2022-05-30T20:23:11.223Z"
   },
   {
    "duration": 0,
    "start_time": "2022-05-30T20:23:11.224Z"
   },
   {
    "duration": 0,
    "start_time": "2022-05-30T20:23:11.226Z"
   },
   {
    "duration": 0,
    "start_time": "2022-05-30T20:23:11.227Z"
   },
   {
    "duration": 0,
    "start_time": "2022-05-30T20:23:11.228Z"
   },
   {
    "duration": 0,
    "start_time": "2022-05-30T20:23:11.230Z"
   },
   {
    "duration": 0,
    "start_time": "2022-05-30T20:23:11.231Z"
   },
   {
    "duration": 1,
    "start_time": "2022-05-30T20:23:11.232Z"
   },
   {
    "duration": 0,
    "start_time": "2022-05-30T20:23:11.235Z"
   },
   {
    "duration": 0,
    "start_time": "2022-05-30T20:23:11.236Z"
   },
   {
    "duration": 0,
    "start_time": "2022-05-30T20:23:11.237Z"
   },
   {
    "duration": 0,
    "start_time": "2022-05-30T20:23:11.239Z"
   },
   {
    "duration": 0,
    "start_time": "2022-05-30T20:23:11.240Z"
   },
   {
    "duration": 0,
    "start_time": "2022-05-30T20:23:11.241Z"
   },
   {
    "duration": 0,
    "start_time": "2022-05-30T20:23:11.243Z"
   },
   {
    "duration": 11,
    "start_time": "2022-05-30T20:24:27.584Z"
   },
   {
    "duration": 114449,
    "start_time": "2022-05-30T20:24:34.378Z"
   },
   {
    "duration": 4,
    "start_time": "2022-05-30T20:26:28.829Z"
   },
   {
    "duration": 41,
    "start_time": "2022-05-30T20:26:28.834Z"
   },
   {
    "duration": 6745,
    "start_time": "2022-05-30T20:26:28.877Z"
   },
   {
    "duration": 411424,
    "start_time": "2022-05-30T20:26:39.494Z"
   },
   {
    "duration": 1843,
    "start_time": "2022-05-31T17:14:51.083Z"
   },
   {
    "duration": 2498,
    "start_time": "2022-05-31T17:14:52.929Z"
   },
   {
    "duration": 691,
    "start_time": "2022-05-31T17:14:55.429Z"
   },
   {
    "duration": 4,
    "start_time": "2022-05-31T17:14:56.123Z"
   },
   {
    "duration": 130900,
    "start_time": "2022-05-31T17:14:56.128Z"
   },
   {
    "duration": 4,
    "start_time": "2022-05-31T17:17:07.030Z"
   },
   {
    "duration": 51,
    "start_time": "2022-05-31T17:17:07.036Z"
   },
   {
    "duration": 7858,
    "start_time": "2022-05-31T17:17:07.089Z"
   },
   {
    "duration": 6,
    "start_time": "2022-05-31T17:17:14.949Z"
   },
   {
    "duration": 8978,
    "start_time": "2022-05-31T17:17:14.959Z"
   },
   {
    "duration": 0,
    "start_time": "2022-05-31T17:17:23.938Z"
   },
   {
    "duration": 0,
    "start_time": "2022-05-31T17:17:23.940Z"
   },
   {
    "duration": 0,
    "start_time": "2022-05-31T17:17:23.941Z"
   },
   {
    "duration": 0,
    "start_time": "2022-05-31T17:17:23.942Z"
   },
   {
    "duration": 0,
    "start_time": "2022-05-31T17:17:23.954Z"
   },
   {
    "duration": 0,
    "start_time": "2022-05-31T17:17:23.955Z"
   },
   {
    "duration": 0,
    "start_time": "2022-05-31T17:17:23.955Z"
   },
   {
    "duration": 0,
    "start_time": "2022-05-31T17:17:23.956Z"
   },
   {
    "duration": 0,
    "start_time": "2022-05-31T17:17:23.957Z"
   },
   {
    "duration": 0,
    "start_time": "2022-05-31T17:17:23.958Z"
   },
   {
    "duration": 0,
    "start_time": "2022-05-31T17:17:23.958Z"
   },
   {
    "duration": 0,
    "start_time": "2022-05-31T17:17:23.959Z"
   },
   {
    "duration": 0,
    "start_time": "2022-05-31T17:17:23.960Z"
   },
   {
    "duration": 1071320,
    "start_time": "2022-05-31T17:17:49.716Z"
   },
   {
    "duration": 0,
    "start_time": "2022-05-31T17:35:41.038Z"
   },
   {
    "duration": 0,
    "start_time": "2022-05-31T17:35:41.039Z"
   },
   {
    "duration": 0,
    "start_time": "2022-05-31T17:35:41.041Z"
   },
   {
    "duration": 0,
    "start_time": "2022-05-31T17:35:41.042Z"
   },
   {
    "duration": 0,
    "start_time": "2022-05-31T17:35:41.043Z"
   },
   {
    "duration": 0,
    "start_time": "2022-05-31T17:35:41.044Z"
   },
   {
    "duration": 0,
    "start_time": "2022-05-31T17:35:41.046Z"
   },
   {
    "duration": 220694,
    "start_time": "2022-05-31T17:35:58.998Z"
   },
   {
    "duration": 2383,
    "start_time": "2022-05-31T17:39:44.403Z"
   },
   {
    "duration": 24,
    "start_time": "2022-05-31T17:39:51.091Z"
   },
   {
    "duration": 11,
    "start_time": "2022-05-31T17:40:20.998Z"
   },
   {
    "duration": 331,
    "start_time": "2022-05-31T17:41:11.381Z"
   },
   {
    "duration": 82,
    "start_time": "2022-05-31T17:41:21.043Z"
   },
   {
    "duration": 0,
    "start_time": "2022-05-31T17:41:21.127Z"
   },
   {
    "duration": 0,
    "start_time": "2022-05-31T17:41:21.128Z"
   },
   {
    "duration": 1932,
    "start_time": "2022-05-31T17:45:10.540Z"
   },
   {
    "duration": 2659,
    "start_time": "2022-05-31T17:45:12.476Z"
   },
   {
    "duration": 634,
    "start_time": "2022-05-31T17:45:15.137Z"
   },
   {
    "duration": 3708,
    "start_time": "2022-05-31T17:45:15.772Z"
   },
   {
    "duration": 129571,
    "start_time": "2022-05-31T17:45:19.483Z"
   },
   {
    "duration": 17,
    "start_time": "2022-05-31T17:47:29.058Z"
   },
   {
    "duration": 62,
    "start_time": "2022-05-31T17:47:29.077Z"
   },
   {
    "duration": 7916,
    "start_time": "2022-05-31T17:47:29.141Z"
   },
   {
    "duration": 7,
    "start_time": "2022-05-31T17:47:37.059Z"
   },
   {
    "duration": 237184,
    "start_time": "2022-05-31T17:47:37.068Z"
   },
   {
    "duration": 14242,
    "start_time": "2022-05-31T17:51:34.254Z"
   },
   {
    "duration": 28,
    "start_time": "2022-05-31T17:51:48.498Z"
   },
   {
    "duration": 176503,
    "start_time": "2022-05-31T17:51:48.528Z"
   },
   {
    "duration": 3387,
    "start_time": "2022-05-31T17:54:45.034Z"
   },
   {
    "duration": 453,
    "start_time": "2022-05-31T17:54:48.423Z"
   },
   {
    "duration": 411379,
    "start_time": "2022-05-31T17:54:48.877Z"
   },
   {
    "duration": 78,
    "start_time": "2022-05-31T18:01:40.282Z"
   },
   {
    "duration": 2258,
    "start_time": "2022-05-31T18:01:40.367Z"
   },
   {
    "duration": 16,
    "start_time": "2022-05-31T18:01:42.627Z"
   },
   {
    "duration": 19,
    "start_time": "2022-05-31T18:01:42.644Z"
   },
   {
    "duration": 102951,
    "start_time": "2022-05-31T18:01:42.673Z"
   },
   {
    "duration": 7,
    "start_time": "2022-05-31T18:03:25.626Z"
   },
   {
    "duration": 39,
    "start_time": "2022-05-31T18:03:25.635Z"
   },
   {
    "duration": 6,
    "start_time": "2022-05-31T18:05:00.462Z"
   },
   {
    "duration": 6,
    "start_time": "2022-05-31T18:06:29.439Z"
   },
   {
    "duration": 1600,
    "start_time": "2022-05-31T18:13:44.748Z"
   },
   {
    "duration": 844,
    "start_time": "2022-05-31T18:13:46.350Z"
   },
   {
    "duration": 623,
    "start_time": "2022-05-31T18:13:47.195Z"
   },
   {
    "duration": 2010,
    "start_time": "2022-05-31T18:13:47.819Z"
   },
   {
    "duration": 9,
    "start_time": "2022-05-31T18:13:49.832Z"
   },
   {
    "duration": 106840,
    "start_time": "2022-05-31T18:13:49.843Z"
   },
   {
    "duration": 5,
    "start_time": "2022-05-31T18:15:36.685Z"
   },
   {
    "duration": 38,
    "start_time": "2022-05-31T18:15:36.692Z"
   },
   {
    "duration": 7039,
    "start_time": "2022-05-31T18:15:36.731Z"
   },
   {
    "duration": 6,
    "start_time": "2022-05-31T18:15:43.772Z"
   },
   {
    "duration": 211156,
    "start_time": "2022-05-31T18:15:43.779Z"
   },
   {
    "duration": 13699,
    "start_time": "2022-05-31T18:19:14.937Z"
   },
   {
    "duration": 37,
    "start_time": "2022-05-31T18:19:28.638Z"
   },
   {
    "duration": 176730,
    "start_time": "2022-05-31T18:19:28.677Z"
   },
   {
    "duration": 3583,
    "start_time": "2022-05-31T18:22:25.409Z"
   },
   {
    "duration": 490,
    "start_time": "2022-05-31T18:22:28.993Z"
   },
   {
    "duration": 432205,
    "start_time": "2022-05-31T18:22:29.484Z"
   },
   {
    "duration": 84,
    "start_time": "2022-05-31T18:29:41.692Z"
   },
   {
    "duration": 315,
    "start_time": "2022-05-31T18:29:41.778Z"
   },
   {
    "duration": 22,
    "start_time": "2022-05-31T18:29:42.095Z"
   },
   {
    "duration": 0,
    "start_time": "2022-05-31T18:29:42.118Z"
   },
   {
    "duration": 0,
    "start_time": "2022-05-31T18:29:42.119Z"
   },
   {
    "duration": 0,
    "start_time": "2022-05-31T18:29:42.120Z"
   },
   {
    "duration": 0,
    "start_time": "2022-05-31T18:29:42.122Z"
   },
   {
    "duration": 102,
    "start_time": "2022-05-31T18:41:46.413Z"
   },
   {
    "duration": 2702,
    "start_time": "2022-05-31T18:41:53.176Z"
   },
   {
    "duration": 2884,
    "start_time": "2022-05-31T18:41:55.880Z"
   },
   {
    "duration": 725,
    "start_time": "2022-05-31T18:41:58.767Z"
   },
   {
    "duration": 2095,
    "start_time": "2022-05-31T18:41:59.494Z"
   },
   {
    "duration": 30,
    "start_time": "2022-05-31T18:42:01.593Z"
   },
   {
    "duration": 2909,
    "start_time": "2022-05-31T18:43:01.798Z"
   },
   {
    "duration": 2645,
    "start_time": "2022-05-31T18:43:04.709Z"
   },
   {
    "duration": 620,
    "start_time": "2022-05-31T18:43:07.356Z"
   },
   {
    "duration": 2008,
    "start_time": "2022-05-31T18:43:07.978Z"
   },
   {
    "duration": 11,
    "start_time": "2022-05-31T18:43:09.988Z"
   },
   {
    "duration": 1612,
    "start_time": "2022-05-31T19:13:23.515Z"
   },
   {
    "duration": 2138,
    "start_time": "2022-05-31T19:13:25.129Z"
   },
   {
    "duration": 471,
    "start_time": "2022-05-31T19:13:27.269Z"
   },
   {
    "duration": 2052,
    "start_time": "2022-05-31T19:13:27.742Z"
   },
   {
    "duration": 16,
    "start_time": "2022-05-31T19:13:29.796Z"
   },
   {
    "duration": 91024,
    "start_time": "2022-05-31T19:13:29.813Z"
   },
   {
    "duration": 6,
    "start_time": "2022-05-31T19:15:00.838Z"
   },
   {
    "duration": 42,
    "start_time": "2022-05-31T19:15:00.846Z"
   },
   {
    "duration": 6160,
    "start_time": "2022-05-31T19:15:00.889Z"
   },
   {
    "duration": 7,
    "start_time": "2022-05-31T19:15:07.050Z"
   },
   {
    "duration": 183772,
    "start_time": "2022-05-31T19:15:07.059Z"
   },
   {
    "duration": 11840,
    "start_time": "2022-05-31T19:18:10.833Z"
   },
   {
    "duration": 24,
    "start_time": "2022-05-31T19:18:22.674Z"
   },
   {
    "duration": 145326,
    "start_time": "2022-05-31T19:18:22.700Z"
   },
   {
    "duration": 3040,
    "start_time": "2022-05-31T19:20:48.028Z"
   },
   {
    "duration": 401,
    "start_time": "2022-05-31T19:20:51.075Z"
   },
   {
    "duration": 387598,
    "start_time": "2022-05-31T19:20:51.477Z"
   },
   {
    "duration": 97,
    "start_time": "2022-05-31T19:27:19.080Z"
   },
   {
    "duration": 163,
    "start_time": "2022-05-31T19:27:19.178Z"
   },
   {
    "duration": 13,
    "start_time": "2022-05-31T19:27:19.343Z"
   },
   {
    "duration": 0,
    "start_time": "2022-05-31T19:27:19.358Z"
   },
   {
    "duration": 0,
    "start_time": "2022-05-31T19:27:19.359Z"
   },
   {
    "duration": 0,
    "start_time": "2022-05-31T19:27:19.360Z"
   },
   {
    "duration": 0,
    "start_time": "2022-05-31T19:27:19.360Z"
   },
   {
    "duration": 43882,
    "start_time": "2022-05-31T19:28:11.513Z"
   },
   {
    "duration": 15,
    "start_time": "2022-05-31T19:29:12.450Z"
   },
   {
    "duration": 12,
    "start_time": "2022-05-31T19:29:13.377Z"
   },
   {
    "duration": 77856,
    "start_time": "2022-05-31T19:29:13.760Z"
   },
   {
    "duration": 0,
    "start_time": "2022-05-31T19:30:31.618Z"
   },
   {
    "duration": 0,
    "start_time": "2022-05-31T19:30:31.619Z"
   },
   {
    "duration": 96305,
    "start_time": "2022-05-31T19:30:49.333Z"
   },
   {
    "duration": 3,
    "start_time": "2022-05-31T19:32:25.640Z"
   },
   {
    "duration": 24,
    "start_time": "2022-05-31T19:32:25.645Z"
   },
   {
    "duration": 1691,
    "start_time": "2022-05-31T19:34:07.893Z"
   },
   {
    "duration": 2035,
    "start_time": "2022-05-31T19:34:09.588Z"
   },
   {
    "duration": 530,
    "start_time": "2022-05-31T19:34:11.625Z"
   },
   {
    "duration": 1928,
    "start_time": "2022-05-31T19:34:12.156Z"
   },
   {
    "duration": 29,
    "start_time": "2022-05-31T19:34:14.088Z"
   },
   {
    "duration": 101833,
    "start_time": "2022-05-31T19:34:14.119Z"
   },
   {
    "duration": 6,
    "start_time": "2022-05-31T19:35:55.954Z"
   },
   {
    "duration": 45,
    "start_time": "2022-05-31T19:35:55.962Z"
   },
   {
    "duration": 6585,
    "start_time": "2022-05-31T19:35:56.008Z"
   },
   {
    "duration": 7,
    "start_time": "2022-05-31T19:36:02.595Z"
   },
   {
    "duration": 208902,
    "start_time": "2022-05-31T19:36:02.604Z"
   },
   {
    "duration": 13604,
    "start_time": "2022-05-31T19:39:31.508Z"
   },
   {
    "duration": 26,
    "start_time": "2022-05-31T19:39:45.113Z"
   },
   {
    "duration": 178681,
    "start_time": "2022-05-31T19:39:45.143Z"
   },
   {
    "duration": 3360,
    "start_time": "2022-05-31T19:42:43.825Z"
   },
   {
    "duration": 427,
    "start_time": "2022-05-31T19:42:47.187Z"
   },
   {
    "duration": 410970,
    "start_time": "2022-05-31T19:42:47.616Z"
   },
   {
    "duration": 52,
    "start_time": "2022-05-31T19:49:38.594Z"
   },
   {
    "duration": 45724,
    "start_time": "2022-05-31T19:49:38.655Z"
   },
   {
    "duration": 99,
    "start_time": "2022-05-31T19:50:24.383Z"
   },
   {
    "duration": 4,
    "start_time": "2022-05-31T19:50:24.487Z"
   },
   {
    "duration": 97031,
    "start_time": "2022-05-31T19:50:24.492Z"
   },
   {
    "duration": 3,
    "start_time": "2022-05-31T19:52:01.525Z"
   },
   {
    "duration": 29,
    "start_time": "2022-05-31T19:52:01.530Z"
   }
  ],
  "kernelspec": {
   "display_name": "Python 3 (ipykernel)",
   "language": "python",
   "name": "python3"
  },
  "language_info": {
   "codemirror_mode": {
    "name": "ipython",
    "version": 3
   },
   "file_extension": ".py",
   "mimetype": "text/x-python",
   "name": "python",
   "nbconvert_exporter": "python",
   "pygments_lexer": "ipython3",
   "version": "3.9.13"
  },
  "toc": {
   "base_numbering": 1,
   "nav_menu": {},
   "number_sections": true,
   "sideBar": true,
   "skip_h1_title": true,
   "title_cell": "Содержание",
   "title_sidebar": "Contents",
   "toc_cell": true,
   "toc_position": {
    "height": "calc(100% - 180px)",
    "left": "10px",
    "top": "150px",
    "width": "302.383px"
   },
   "toc_section_display": true,
   "toc_window_display": false
  }
 },
 "nbformat": 4,
 "nbformat_minor": 2
}
